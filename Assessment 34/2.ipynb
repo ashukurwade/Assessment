{
 "cells": [
  {
   "cell_type": "code",
   "execution_count": 4,
   "id": "92bad0b5-d850-4adc-883b-9f7cf2c8b8ac",
   "metadata": {},
   "outputs": [],
   "source": [
    "# Can you write a function that returns the nth Fibonacci number using\n",
    "# both a recursive and an iterative approach? What are the trade-offs in\n",
    "# terms of time complexity for each method?"
   ]
  },
  {
   "cell_type": "code",
   "execution_count": 9,
   "id": "c37eac13-53b9-4ad6-a3c7-9aebf9c115bf",
   "metadata": {},
   "outputs": [],
   "source": [
    "# Recursive Approach\n",
    "\n",
    "def fibonacci_recursive(n):\n",
    "    if n <= 1:\n",
    "        return n\n",
    "    else:\n",
    "        return fibonacci_recursive(n-1) + fibonacci_recursive(n-2)"
   ]
  },
  {
   "cell_type": "code",
   "execution_count": 10,
   "id": "8d3d06a2-4636-4027-af8a-6d6dac51f159",
   "metadata": {},
   "outputs": [],
   "source": [
    "def fibonacci_recursive(n):\n",
    "    \"\"\"\n",
    "    Returns the nth Fibonacci number using a simple recursive approach.\n",
    "    Time Complexity: Exponential O(2^n)\n",
    "    \"\"\"\n",
    "    if n < 0:\n",
    "        raise ValueError(\"n must be a non-negative integer\")\n",
    "    if n == 0:\n",
    "        return 0\n",
    "    if n == 1:\n",
    "        return 1\n",
    "    return fibonacci_recursive(n-1) + fibonacci_recursive(n-2)"
   ]
  },
  {
   "cell_type": "code",
   "execution_count": 11,
   "id": "aee66fee-8616-473e-9eb2-0b8ccf5a7312",
   "metadata": {},
   "outputs": [
    {
     "name": "stdout",
     "output_type": "stream",
     "text": [
      "Recursive: The 10th Fibonacci number is 55\n",
      "Iterative: The 10th Fibonacci number is 55\n"
     ]
    }
   ],
   "source": [
    "n = 10\n",
    "print(f\"Recursive: The {n}th Fibonacci number is {fibonacci_recursive(n)}\")\n",
    "print(f\"Iterative: The {n}th Fibonacci number is {fibonacci_iterative(n)}\")"
   ]
  },
  {
   "cell_type": "code",
   "execution_count": 12,
   "id": "305a3fed-9fe1-4229-8612-4b0b8b0316fc",
   "metadata": {},
   "outputs": [],
   "source": [
    "# Iterative Approach\n",
    "\n",
    "def fibonacci_iterative(n):\n",
    "    if n <= 1:\n",
    "        return n\n",
    "    a, b = 0, 1\n",
    "    for _ in range(2, n + 1):\n",
    "        a, b = b, a + b\n",
    "    return b"
   ]
  },
  {
   "cell_type": "code",
   "execution_count": 13,
   "id": "8402d484-bb35-4518-b898-7d60ebdda28a",
   "metadata": {},
   "outputs": [],
   "source": [
    "def fibonacci_iterative(n):\n",
    "    \"\"\"\n",
    "    Returns the nth Fibonacci number using an iterative approach.\n",
    "    Time Complexity: Linear O(n)\n",
    "    \"\"\"\n",
    "    if n < 0:\n",
    "        raise ValueError(\"n must be a non-negative integer\")\n",
    "    if n == 0:\n",
    "        return 0\n",
    "    a, b = 0, 1\n",
    "    for _ in range(1, n):\n",
    "        a, b = b, a + b\n",
    "    return b"
   ]
  },
  {
   "cell_type": "code",
   "execution_count": 14,
   "id": "fb7bd884-0f4c-472b-9a5f-e2a23a448e01",
   "metadata": {},
   "outputs": [
    {
     "name": "stdout",
     "output_type": "stream",
     "text": [
      "Recursive: The 10th Fibonacci number is 55\n",
      "Iterative: The 10th Fibonacci number is 55\n"
     ]
    }
   ],
   "source": [
    "n = 10\n",
    "print(f\"Recursive: The {n}th Fibonacci number is {fibonacci_recursive(n)}\")\n",
    "print(f\"Iterative: The {n}th Fibonacci number is {fibonacci_iterative(n)}\")"
   ]
  },
  {
   "cell_type": "code",
   "execution_count": 1,
   "id": "63092887-c97d-492e-8c21-9e6d80b7de33",
   "metadata": {},
   "outputs": [],
   "source": [
    "# Optimized Recursive Approach (Memoization)\n",
    "\n",
    "def fibonacci_memoization(n, memo={}):\n",
    "    if n in memo:\n",
    "        return memo[n]\n",
    "    if n <= 1:\n",
    "        return n\n",
    "    memo[n] = fibonacci_memoization(n-1, memo) + fibonacci_memoization(n-2, memo)\n",
    "    return memo[n]"
   ]
  },
  {
   "cell_type": "code",
   "execution_count": null,
   "id": "966d946a-b970-4c8b-ad68-baaf2991ae99",
   "metadata": {},
   "outputs": [],
   "source": []
  }
 ],
 "metadata": {
  "kernelspec": {
   "display_name": "Python 3 (ipykernel)",
   "language": "python",
   "name": "python3"
  },
  "language_info": {
   "codemirror_mode": {
    "name": "ipython",
    "version": 3
   },
   "file_extension": ".py",
   "mimetype": "text/x-python",
   "name": "python",
   "nbconvert_exporter": "python",
   "pygments_lexer": "ipython3",
   "version": "3.12.4"
  }
 },
 "nbformat": 4,
 "nbformat_minor": 5
}
