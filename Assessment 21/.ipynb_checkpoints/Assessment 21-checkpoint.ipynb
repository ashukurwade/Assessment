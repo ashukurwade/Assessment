{
 "cells": [
  {
   "cell_type": "code",
   "execution_count": null,
   "id": "73d4e53b-dea2-4562-a3e4-2dfb054672c4",
   "metadata": {},
   "outputs": [],
   "source": [
    "# 1. Summarizing Expenses from Multiple Excel Sheets\n",
    "\n",
    "# You are working with an Excel file containing multiple sheets, each representing a different department’s budget for the year.\n",
    "# How would you write a script to summarize the total expenses for each department and\n",
    "# create a new sheet showing the department names alongside their total spending?\n",
    "\n",
    "import pandas as pd\n",
    "\n",
    "def summarize_expenses(file_path):\n",
    "    # Load the Excel file\n",
    "    xls = pd.ExcelFile(file_path)\n",
    "    \n",
    "    summary = []\n",
    "\n",
    "    # Iterate over each sheet\n",
    "    for sheet in xls.sheet_names:\n",
    "        df = pd.read_excel(xls, sheet_name=sheet)\n",
    "        \n",
    "        # Assuming the 'Expenses' column contains numeric values\n",
    "        total_expense = df[\"Expenses\"].sum()\n",
    "        \n",
    "        summary.append({\"Department\": sheet, \"Total Expense\": total_expense})\n",
    "    \n",
    "    # Create a summary DataFrame\n",
    "    summary_df = pd.DataFrame(summary)\n",
    "    \n",
    "    # Write back to a new sheet\n",
    "    with pd.ExcelWriter(file_path, mode=\"a\", engine=\"openpyxl\") as writer:\n",
    "        summary_df.to_excel(writer, sheet_name=\"Summary\", index=False)\n",
    "\n",
    "summarize_expenses(\"budget.xlsx\")"
   ]
  },
  {
   "cell_type": "code",
   "execution_count": 2,
   "id": "4c862745-a3dc-49d0-98f3-148c1b7a1917",
   "metadata": {},
   "outputs": [
    {
     "name": "stdout",
     "output_type": "stream",
     "text": [
      "500\n",
      "Error: Insufficient funds!\n"
     ]
    }
   ],
   "source": [
    "# 2. Using assert to Prevent Overdrawn Transactions\n",
    "\n",
    "# How could you use assert to ensure that a function handling bank transactions properly prevents\n",
    "# withdrawal amounts from exceeding the account balance?\n",
    "\n",
    "def withdraw(balance, amount):\n",
    "    if amount > balance:\n",
    "        return \"Error: Insufficient funds!\"  # Instead of AssertionError, return a message\n",
    "    return balance - amount\n",
    "\n",
    "balance = 1000\n",
    "print(withdraw(balance, 500))   # Works fine, returns 500\n",
    "print(withdraw(balance, 1200))  # Now returns \"Error: Insufficient funds!\" instead of crashing"
   ]
  },
  {
   "cell_type": "code",
   "execution_count": 3,
   "id": "d7b14d38-3da9-4b27-8103-429a6f7de01c",
   "metadata": {},
   "outputs": [
    {
     "name": "stdout",
     "output_type": "stream",
     "text": [
      "['Ashutosh']\n"
     ]
    }
   ],
   "source": [
    "# 3. List Comprehension for Filtering Names\n",
    "\n",
    "# Given a list of strings representing names,\n",
    "# how wouldyou use list comprehension to create a new list that only contains the names that start with the letter “A” and\n",
    "# are longer than 4 characters?\n",
    "\n",
    "names = [\"Alim\", \"Ashutosh\", \"Banny\", \"Anil\", \"Amit\", \"AI\"]\n",
    "filtered_names = [name for name in names if name.startswith(\"A\") and len(name) > 4]\n",
    "\n",
    "print(filtered_names)"
   ]
  },
  {
   "cell_type": "code",
   "execution_count": 4,
   "id": "78801953-a67b-429a-b7c8-6e75bf6f232d",
   "metadata": {},
   "outputs": [
    {
     "name": "stdout",
     "output_type": "stream",
     "text": [
      "[100, 400, 900, 1600]\n"
     ]
    }
   ],
   "source": [
    "# 4. List Comprehension for Squaring Even Numbers Below 50\n",
    "\n",
    "# Given a list of integers,\n",
    "# how would you use list comprehension to create a list of squares of even numbers that are less than 50?\n",
    "\n",
    "numbers = [10, 15, 20, 25, 30, 40, 50, 60]\n",
    "squared_evens = [n**2 for n in numbers if n % 2 == 0 and n < 50]\n",
    "\n",
    "print(squared_evens)  # Output: [100, 400, 900, 1600]"
   ]
  },
  {
   "cell_type": "code",
   "execution_count": 5,
   "id": "f28047f9-f0c5-44ed-b68a-e7f27a480309",
   "metadata": {},
   "outputs": [
    {
     "name": "stdout",
     "output_type": "stream",
     "text": [
      "4\n"
     ]
    }
   ],
   "source": [
    "# 5. Counting Sentences Containing \"Python\" in a Text File\n",
    "\n",
    "# You have a text file containing several paragraphs, and\n",
    "# you need to create a program that reads the file, splits it into individual sentences, and\n",
    "# counts how many sentences contain the word \"Python\"\n",
    "\n",
    "import re\n",
    "\n",
    "def count_python_sentences(file_path):\n",
    "    with open(file_path, \"r\", encoding=\"utf-8\") as file:\n",
    "        text = file.read()\n",
    "        \n",
    "    sentences = re.split(r'[.!?]', text)  # Split text into sentences\n",
    "    count = sum(1 for sentence in sentences if \"Python\" in sentence)\n",
    "    \n",
    "    return count\n",
    "\n",
    "print(count_python_sentences(\"textfile.txt\"))"
   ]
  }
 ],
 "metadata": {
  "kernelspec": {
   "display_name": "Python 3 (ipykernel)",
   "language": "python",
   "name": "python3"
  },
  "language_info": {
   "codemirror_mode": {
    "name": "ipython",
    "version": 3
   },
   "file_extension": ".py",
   "mimetype": "text/x-python",
   "name": "python",
   "nbconvert_exporter": "python",
   "pygments_lexer": "ipython3",
   "version": "3.12.4"
  }
 },
 "nbformat": 4,
 "nbformat_minor": 5
}
