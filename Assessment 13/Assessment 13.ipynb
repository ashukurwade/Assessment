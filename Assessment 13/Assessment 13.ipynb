{
 "cells": [
  {
   "cell_type": "code",
   "execution_count": 1,
   "id": "a5e086ee-d568-4157-8f87-102cdcace1a3",
   "metadata": {},
   "outputs": [
    {
     "name": "stdout",
     "output_type": "stream",
     "text": [
      "[104, 101, 108, 108, 111]\n"
     ]
    }
   ],
   "source": [
    "# 1. How would you convert a string to a list of integers, where each integer corresponds to the ASCII value of a character in the\n",
    "# string? For example, 'hello'; should become [104, 101, 108, 108, 111].\n",
    "\n",
    "def string_to_ascii_list(s):\n",
    "    return [ord(char) for char in s]\n",
    "\n",
    "print(string_to_ascii_list(\"hello\"))  # Output: [104, 101, 108, 108, 111]"
   ]
  },
  {
   "cell_type": "code",
   "execution_count": 2,
   "id": "417f3ea1-41c6-4033-a34e-89e9dc8f4b77",
   "metadata": {},
   "outputs": [
    {
     "name": "stdout",
     "output_type": "stream",
     "text": [
      "True\n",
      "False\n"
     ]
    }
   ],
   "source": [
    "#2. How would you write a Python expression that evaluates whether a number n is both a perfect square and a perfect\n",
    "# cube? The result should be True if it is both, otherwise False.\n",
    "\n",
    "def is_perfect_square_and_cube(n):\n",
    "    return round(n ** (1/6)) ** 6 == n\n",
    "\n",
    "print(is_perfect_square_and_cube(64))  # True (2^6)\n",
    "print(is_perfect_square_and_cube(36))  # False"
   ]
  },
  {
   "cell_type": "code",
   "execution_count": 3,
   "id": "8dbab6cc-2251-4981-8a6c-9826e82c210d",
   "metadata": {},
   "outputs": [
    {
     "name": "stdout",
     "output_type": "stream",
     "text": [
      "True\n",
      "False\n"
     ]
    }
   ],
   "source": [
    "# 3. Given a list of integers, write a Python expression that checks whether all the numbers in the list are positive, and if there is\n",
    "# at least one negative number, it should return False.\n",
    "\n",
    "def all_positive(lst):\n",
    "    return all(num > 0 for num in lst)\n",
    "\n",
    "print(all_positive([1, 2, 3]))  # True\n",
    "print(all_positive([1, -2, 3])) # False"
   ]
  },
  {
   "cell_type": "code",
   "execution_count": 5,
   "id": "05cbb445-517d-4b70-91ce-82fdb7ddf0d2",
   "metadata": {},
   "outputs": [
    {
     "name": "stdout",
     "output_type": "stream",
     "text": [
      "Valid\n",
      "Invalid\n",
      "Invalid\n"
     ]
    }
   ],
   "source": [
    "# 4. You have a string that contains both letters and digits.\n",
    "# Write an if-else statement that checks if the string contains at least one letter and one digit.\n",
    "# If both conditions are met, return \"Valid\",otherwise return \"Invalid\".\n",
    "\n",
    "def validate_string(s):\n",
    "    has_letter = any(char.isalpha() for char in s)\n",
    "    has_digit = any(char.isdigit() for char in s)\n",
    "    return \"Valid\" if has_letter and has_digit else \"Invalid\"\n",
    "\n",
    "print(validate_string(\"abc123\"))  # \"Valid\"\n",
    "print(validate_string(\"abc\"))     # \"Invalid\"\n",
    "print(validate_string(\"123\"))     # \"Invalid\""
   ]
  },
  {
   "cell_type": "code",
   "execution_count": 10,
   "id": "edf4b9a6-3ff6-4d25-96f8-82026311be05",
   "metadata": {},
   "outputs": [
    {
     "name": "stdout",
     "output_type": "stream",
     "text": [
      "30.0\n"
     ]
    }
   ],
   "source": [
    "# 5. You have a large CSV file that contains rows of data.\n",
    "# Write a Python function using the csv module that reads the CSV file,\n",
    "# finds the average of values in the second column, and prints the result.\n",
    "\n",
    "import csv\n",
    "\n",
    "def average_second_column(csv_filename):\n",
    "    total, count = 0, 0\n",
    "    with open(csv_filename, newline='') as file:\n",
    "        reader = csv.reader(file)\n",
    "        next(reader)  # Skip header row if present\n",
    "        for row in reader:\n",
    "            total += float(row[1])  # Assuming numeric data\n",
    "            count += 1\n",
    "    return total / count if count > 0 else 0\n",
    "\n",
    "print(average_second_column(\"data.csv\"))"
   ]
  },
  {
   "cell_type": "code",
   "execution_count": 7,
   "id": "edd5cbb6-e1f6-4b55-bef7-e36944524b34",
   "metadata": {},
   "outputs": [
    {
     "name": "stdout",
     "output_type": "stream",
     "text": [
      "banana\n"
     ]
    }
   ],
   "source": [
    "# 6. Given a list of strings, write a loop that finds the longest string\n",
    "# in the list without using built-in functions like max or len.\n",
    "\n",
    "def longest_string(lst):\n",
    "    longest = \"\"\n",
    "    for word in lst:\n",
    "        if sum(1 for _ in word) > sum(1 for _ in longest):  # Mimic len()\n",
    "            longest = word\n",
    "    return longest\n",
    "\n",
    "print(longest_string([\"apple\", \"banana\", \"cherry\"]))  # \"banana\""
   ]
  },
  {
   "cell_type": "code",
   "execution_count": 9,
   "id": "81a6073b-2c55-4bd3-a4ea-303360c60e7d",
   "metadata": {},
   "outputs": [
    {
     "name": "stdout",
     "output_type": "stream",
     "text": [
      "{'h': 1, 'e': 1, 'l': 3, 'o': 2, ' ': 1, 'w': 1, 'r': 1, 'd': 1}\n"
     ]
    }
   ],
   "source": [
    "# 7. Create a Python function that accepts a string and returns the count of each character in the string.\n",
    "# For example, for the input \"hello world\", the output should be {'h': 1, 'e': 1, 'l': 3, 'o': 2, ' ': 1, 'w': 1, 'r': 1, 'd': 1}\n",
    "\n",
    "def char_count(s):\n",
    "    counts = {}\n",
    "    for char in s:\n",
    "        counts[char] = counts.get(char, 0) + 1\n",
    "    return counts\n",
    "\n",
    "print(char_count(\"hello world\"))  \n",
    "# Output: {'h': 1, 'e': 1, 'l': 3, 'o': 2, ' ': 1, 'w': 1, 'r': 1, 'd': 1}"
   ]
  },
  {
   "cell_type": "code",
   "execution_count": null,
   "id": "317ff110-aa9f-42f5-b581-0ffd76278d83",
   "metadata": {},
   "outputs": [],
   "source": []
  }
 ],
 "metadata": {
  "kernelspec": {
   "display_name": "Python 3 (ipykernel)",
   "language": "python",
   "name": "python3"
  },
  "language_info": {
   "codemirror_mode": {
    "name": "ipython",
    "version": 3
   },
   "file_extension": ".py",
   "mimetype": "text/x-python",
   "name": "python",
   "nbconvert_exporter": "python",
   "pygments_lexer": "ipython3",
   "version": "3.12.4"
  }
 },
 "nbformat": 4,
 "nbformat_minor": 5
}
