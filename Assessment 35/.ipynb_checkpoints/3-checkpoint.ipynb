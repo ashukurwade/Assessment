{
 "cells": [
  {
   "cell_type": "raw",
   "id": "f8ea4299-6db8-48a1-9de8-c0c545dca6c9",
   "metadata": {},
   "source": [
    "Imagine you're working with a dataset of housing prices that has missing\n",
    "values in columns like square_feet and num_bedrooms. How would you\n",
    "use SimpleImputer from sklearn to fill these missing values with the\n",
    "median for numerical columns and the most frequent value for\n",
    "categorical ones?"
   ]
  },
  {
   "cell_type": "code",
   "execution_count": 7,
   "id": "e066c2d7-7e49-4fb2-9d15-1f9f9370f77d",
   "metadata": {},
   "outputs": [],
   "source": [
    "import pandas as pd\n",
    "from sklearn.impute import SimpleImputer"
   ]
  },
  {
   "cell_type": "code",
   "execution_count": 8,
   "id": "82698e45-75ac-4716-8a94-1cfd86b755b0",
   "metadata": {},
   "outputs": [],
   "source": [
    "# Example dataset\n",
    "data = {\n",
    "    'square_feet': [1200, 1500, None, 1800, 1600],\n",
    "    'num_bedrooms': [2, 3, None, 4, 3],\n",
    "    'neighborhood': ['A', 'B', 'A', None, 'B']\n",
    "}\n",
    "\n",
    "df = pd.DataFrame(data)"
   ]
  },
  {
   "cell_type": "code",
   "execution_count": 9,
   "id": "2a946d10-ab73-4507-8fcc-bdd0f247b84c",
   "metadata": {},
   "outputs": [],
   "source": [
    "# Identify numerical and categorical columns\n",
    "numerical_cols = df.select_dtypes(include=['int64', 'float64']).columns\n",
    "categorical_cols = df.select_dtypes(include=['object']).columns"
   ]
  },
  {
   "cell_type": "code",
   "execution_count": 10,
   "id": "577433ff-557e-44ab-9703-b1982db542d0",
   "metadata": {},
   "outputs": [],
   "source": [
    "# Imputer for numerical columns (median)\n",
    "numerical_imputer = SimpleImputer(strategy='median')\n",
    "\n",
    "# Imputer for categorical columns (most frequent)\n",
    "categorical_imputer = SimpleImputer(strategy='most_frequent')"
   ]
  },
  {
   "cell_type": "code",
   "execution_count": 11,
   "id": "64037a49-23b8-4f63-90a8-e5668f6d15d5",
   "metadata": {},
   "outputs": [],
   "source": [
    "# Apply numerical imputer\n",
    "df[numerical_cols] = numerical_imputer.fit_transform(df[numerical_cols])\n",
    "\n",
    "# Apply categorical imputer\n",
    "df[categorical_cols] = categorical_imputer.fit_transform(df[categorical_cols])"
   ]
  },
  {
   "cell_type": "code",
   "execution_count": 12,
   "id": "a6aed391-eb7f-4109-b976-2623296e3722",
   "metadata": {},
   "outputs": [
    {
     "name": "stdout",
     "output_type": "stream",
     "text": [
      "   square_feet  num_bedrooms neighborhood\n",
      "0       1200.0           2.0            A\n",
      "1       1500.0           3.0            B\n",
      "2       1550.0           3.0            A\n",
      "3       1800.0           4.0         None\n",
      "4       1600.0           3.0            B\n"
     ]
    }
   ],
   "source": [
    "print(df)"
   ]
  },
  {
   "cell_type": "code",
   "execution_count": null,
   "id": "0d5271d2-ba55-4f44-9663-d5c70dc44cb4",
   "metadata": {},
   "outputs": [],
   "source": []
  }
 ],
 "metadata": {
  "kernelspec": {
   "display_name": "Python 3 (ipykernel)",
   "language": "python",
   "name": "python3"
  },
  "language_info": {
   "codemirror_mode": {
    "name": "ipython",
    "version": 3
   },
   "file_extension": ".py",
   "mimetype": "text/x-python",
   "name": "python",
   "nbconvert_exporter": "python",
   "pygments_lexer": "ipython3",
   "version": "3.12.4"
  }
 },
 "nbformat": 4,
 "nbformat_minor": 5
}
