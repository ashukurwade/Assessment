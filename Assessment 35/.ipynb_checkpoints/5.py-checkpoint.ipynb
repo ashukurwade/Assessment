{
 "cells": [
  {
   "cell_type": "raw",
   "id": "75415083-e58f-4933-b0c3-c9f53acbadf1",
   "metadata": {},
   "source": [
    "5. Can you explain polymorphism in Python? Demonstrate it by creating a\n",
    "base class Shape with a method area(), and then subclass it with Circle\n",
    "and Rectangle classes, each implementing the area() method in a way\n",
    "specific to their shapes."
   ]
  },
  {
   "cell_type": "code",
   "execution_count": 2,
   "id": "f385ae0a-0b9e-4e75-852d-b147a75466ab",
   "metadata": {},
   "outputs": [],
   "source": [
    "# Define the Base Class Shape\n",
    "\n",
    "class Shape:\n",
    "    def area(self):\n",
    "        raise NotImplementedError(\"Subclasses should implement this method\")"
   ]
  },
  {
   "cell_type": "code",
   "execution_count": 3,
   "id": "1cbb2a97-9dee-4fdb-86fa-cfea01876957",
   "metadata": {},
   "outputs": [],
   "source": [
    "# Create the Circle Subclass\n",
    "\n",
    "import math\n",
    "\n",
    "class Circle(Shape):\n",
    "    def __init__(self, radius):\n",
    "        self.radius = radius\n",
    "\n",
    "    def area(self):\n",
    "        return math.pi * self.radius ** 2"
   ]
  },
  {
   "cell_type": "code",
   "execution_count": 4,
   "id": "b3a39783-8528-44dd-9091-446937be87dd",
   "metadata": {},
   "outputs": [],
   "source": [
    "# Create the Rectangle Subclass\n",
    "\n",
    "class Rectangle(Shape):\n",
    "    def __init__(self, width, height):\n",
    "        self.width = width\n",
    "        self.height = height\n",
    "\n",
    "    def area(self):\n",
    "        return self.width * self.height"
   ]
  },
  {
   "cell_type": "code",
   "execution_count": 5,
   "id": "f1a868be-7832-4225-a788-5319ca23f87e",
   "metadata": {},
   "outputs": [
    {
     "name": "stdout",
     "output_type": "stream",
     "text": [
      "The area of the Circle is 78.54\n",
      "The area of the Rectangle is 24.00\n"
     ]
    }
   ],
   "source": [
    " # Demonstrate Polymorphism\n",
    "\n",
    "# Create instances of Circle and Rectangle\n",
    "circle = Circle(radius=5)\n",
    "rectangle = Rectangle(width=4, height=6)\n",
    "\n",
    "# Use polymorphism to call the area() method on different shapes\n",
    "shapes = [circle, rectangle]\n",
    "\n",
    "for shape in shapes:\n",
    "    print(f\"The area of the {shape.__class__.__name__} is {shape.area():.2f}\")"
   ]
  },
  {
   "cell_type": "code",
   "execution_count": null,
   "id": "9a188177-d580-420c-a37c-6a79ddbf70f8",
   "metadata": {},
   "outputs": [],
   "source": []
  }
 ],
 "metadata": {
  "kernelspec": {
   "display_name": "Python 3 (ipykernel)",
   "language": "python",
   "name": "python3"
  },
  "language_info": {
   "codemirror_mode": {
    "name": "ipython",
    "version": 3
   },
   "file_extension": ".py",
   "mimetype": "text/x-python",
   "name": "python",
   "nbconvert_exporter": "python",
   "pygments_lexer": "ipython3",
   "version": "3.12.4"
  }
 },
 "nbformat": 4,
 "nbformat_minor": 5
}
