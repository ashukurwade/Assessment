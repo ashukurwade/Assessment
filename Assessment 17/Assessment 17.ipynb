{
 "cells": [
  {
   "cell_type": "code",
   "execution_count": 3,
   "id": "21cce2ce-d75c-4eb8-a02d-15fa879d9a54",
   "metadata": {},
   "outputs": [
    {
     "name": "stdin",
     "output_type": "stream",
     "text": [
      "Enter item quantity:  7\n"
     ]
    },
    {
     "name": "stdout",
     "output_type": "stream",
     "text": [
      "Quantity added: 7\n"
     ]
    }
   ],
   "source": [
    "# 1. Handling Invalid Item Quantities in a Shopping Cart\n",
    "\n",
    "# Imagine you are building a shopping cart system where users input item quantities.\n",
    "# If a user inputs a negative number for the quantity or leaves it blank, how would you handle this error gracefully without the program breaking? \n",
    "\n",
    "def get_item_quantity():\n",
    "    while True:\n",
    "        try:\n",
    "            quantity = input(\"Enter item quantity: \").strip()\n",
    "            if not quantity:  # Check for blank input\n",
    "                raise ValueError(\"Quantity cannot be blank.\")\n",
    "            quantity = int(quantity)\n",
    "            if quantity < 0:\n",
    "                raise ValueError(\"Quantity cannot be negative.\")\n",
    "            return quantity\n",
    "        except ValueError as e:\n",
    "            print(f\"Invalid input: {e}. Please enter a valid quantity.\")\n",
    "\n",
    "quantity = get_item_quantity()\n",
    "print(f\"Quantity added: {quantity}\")"
   ]
  },
  {
   "cell_type": "code",
   "execution_count": 5,
   "id": "da0116ed-9b1a-458c-affc-91b7306238d6",
   "metadata": {},
   "outputs": [
    {
     "name": "stdout",
     "output_type": "stream",
     "text": [
      "Report updated successfully.\n"
     ]
    }
   ],
   "source": [
    "#  2. Handling File Operations Safely\n",
    "\n",
    "# You're working with a program that generates a report file each month.\n",
    "# What steps would you take to safely handle reading, updating, and writing to this file without causing any data corruption or file locks?\n",
    "\n",
    "import os\n",
    "\n",
    "def update_report(filename, new_data):\n",
    "    temp_filename = filename + \".tmp\"\n",
    "    try:\n",
    "        with open(filename, \"r\") as file:\n",
    "            existing_data = file.readlines()\n",
    "\n",
    "        with open(temp_filename, \"w\") as temp_file:\n",
    "            temp_file.writelines(existing_data)\n",
    "            temp_file.write(new_data + \"\\n\")\n",
    "\n",
    "        os.replace(temp_filename, filename)  # Atomic rename\n",
    "        print(\"Report updated successfully.\")\n",
    "    except FileNotFoundError:\n",
    "        print(\"File not found. Creating a new report.\")\n",
    "        with open(filename, \"w\") as file:\n",
    "            file.write(new_data + \"\\n\")\n",
    "    except IOError as e:\n",
    "        print(f\"Error handling file: {e}\")\n",
    "\n",
    "update_report(\"monthly_report.txt\", \"New sales data\")"
   ]
  },
  {
   "cell_type": "code",
   "execution_count": null,
   "id": "5a1c56cc-4da6-4133-a503-00417fa44751",
   "metadata": {},
   "outputs": [
    {
     "name": "stdin",
     "output_type": "stream",
     "text": [
      "Guess a number (1-100):  12\n"
     ]
    },
    {
     "name": "stdout",
     "output_type": "stream",
     "text": [
      "Too low. Try again.\n"
     ]
    }
   ],
   "source": [
    "## 3. Guessing Game with Input Validation\n",
    "\n",
    "#You’re building a game where the player has to guess a secret number between 1 and 100.\n",
    "# The game should keep asking the player to guess until they get it right.\n",
    "# How would you implement this in a loop, and how would you make sure invalid inputs (like letters or numbers outside the range) are handled appropriately?\n",
    "\n",
    "\n",
    "import random\n",
    "\n",
    "def guessing_game():\n",
    "    secret_number = random.randint(1, 100)\n",
    "    \n",
    "    while True:\n",
    "        try:\n",
    "            guess = input(\"Guess a number (1-100): \").strip()\n",
    "            guess = int(guess)  # Convert input to integer\n",
    "            if not 1 <= guess <= 100:\n",
    "                raise ValueError(\"Number out of range.\")\n",
    "            if guess == secret_number:\n",
    "                print(\"Congratulations! You guessed it right.\")\n",
    "                break\n",
    "            elif guess < secret_number:\n",
    "                print(\"Too low. Try again.\")\n",
    "            else:\n",
    "                print(\"Too high. Try again.\")\n",
    "        except ValueError as e:\n",
    "            print(f\"Invalid input: {e}. Please enter a number between 1 and 100.\")\n",
    "\n",
    "guessing_game()"
   ]
  },
  {
   "cell_type": "code",
   "execution_count": null,
   "id": "cc713353-2205-4299-b1f3-bf20cb0428d7",
   "metadata": {},
   "outputs": [
    {
     "name": "stdout",
     "output_type": "stream",
     "text": [
      "Error: HTTPSConnectionPool(host='api.example.com', port=443): Max retries exceeded with url: /data (Caused by NameResolutionError(\"<urllib3.connection.HTTPSConnection object at 0x0000026134811A90>: Failed to resolve 'api.example.com' ([Errno 11001] getaddrinfo failed)\")). Retrying (1/5)...\n",
      "Error: HTTPSConnectionPool(host='api.example.com', port=443): Max retries exceeded with url: /data (Caused by NameResolutionError(\"<urllib3.connection.HTTPSConnection object at 0x00000261346511C0>: Failed to resolve 'api.example.com' ([Errno 11001] getaddrinfo failed)\")). Retrying (2/5)...\n",
      "Error: HTTPSConnectionPool(host='api.example.com', port=443): Max retries exceeded with url: /data (Caused by NameResolutionError(\"<urllib3.connection.HTTPSConnection object at 0x0000026134812180>: Failed to resolve 'api.example.com' ([Errno 11001] getaddrinfo failed)\")). Retrying (3/5)...\n",
      "Error: HTTPSConnectionPool(host='api.example.com', port=443): Max retries exceeded with url: /data (Caused by NameResolutionError(\"<urllib3.connection.HTTPSConnection object at 0x0000026134812960>: Failed to resolve 'api.example.com' ([Errno 11001] getaddrinfo failed)\")). Retrying (4/5)...\n"
     ]
    }
   ],
   "source": [
    "# 4. Handling API Failures in a Web Scraper\n",
    "\n",
    "#You're building a web scraper that needs to interact with an API.\n",
    "# You decide to use the requests module to fetch data.\n",
    "# How would you handle the potential failures like network errors, timeouts, or rate limits when making HTTP requests? \n",
    "\n",
    "import requests\n",
    "import time\n",
    "\n",
    "def fetch_data(url):\n",
    "    max_retries = 5\n",
    "    backoff_factor = 2  # Exponential backoff\n",
    "    for attempt in range(max_retries):\n",
    "        try:\n",
    "            response = requests.get(url, timeout=5)\n",
    "            response.raise_for_status()  # Raises HTTP errors\n",
    "            return response.json()\n",
    "        except requests.exceptions.RequestException as e:\n",
    "            print(f\"Error: {e}. Retrying ({attempt + 1}/{max_retries})...\")\n",
    "            time.sleep(backoff_factor ** attempt)\n",
    "\n",
    "    print(\"Failed to fetch data after multiple retries.\")\n",
    "    return None\n",
    "\n",
    "data = fetch_data(\"https://api.example.com/data\")\n",
    "if data:\n",
    "    print(\"Data fetched successfully.\")"
   ]
  },
  {
   "cell_type": "code",
   "execution_count": 1,
   "id": "14a8a19f-674a-4878-863d-fb0c46d397b8",
   "metadata": {},
   "outputs": [
    {
     "name": "stdout",
     "output_type": "stream",
     "text": [
      "Error: User data file not found.\n"
     ]
    }
   ],
   "source": [
    "# 5. Handling File Not Found & Corrupt Data\n",
    "\n",
    "# In a program that reads from a file and processes user data,\n",
    "# what would you do to handle cases where the file is not found or the data is in an unexpected format?\n",
    "# How would you log the error details for debugging?\n",
    "\n",
    "import json\n",
    "import logging\n",
    "\n",
    "logging.basicConfig(filename=\"error.log\", level=logging.ERROR)\n",
    "\n",
    "def read_user_data(filename):\n",
    "    try:\n",
    "        with open(filename, \"r\") as file:\n",
    "            data = json.load(file)  # Assumes JSON format\n",
    "        return data\n",
    "    except FileNotFoundError:\n",
    "        logging.error(\"File not found: %s\", filename)\n",
    "        print(\"Error: User data file not found.\")\n",
    "    except json.JSONDecodeError:\n",
    "        logging.error(\"Invalid file format in: %s\", filename)\n",
    "        print(\"Error: Data format is invalid.\")\n",
    "    except Exception as e:\n",
    "        logging.error(\"Unexpected error: %s\", str(e))\n",
    "        print(\"An unexpected error occurred.\")\n",
    "\n",
    "user_data = read_user_data(\"users.json\")\n",
    "if user_data:\n",
    "    print(\"User data loaded.\")"
   ]
  },
  {
   "cell_type": "code",
   "execution_count": 2,
   "id": "f0280774-5d01-42d3-95b4-67c97d5bbe1d",
   "metadata": {},
   "outputs": [],
   "source": [
    "#  6. Appending Data to a CSV File Without Duplicates\n",
    "\n",
    "# You&#39;re building an app that needs to export data to a CSV file, but the program should only append new data if the file already exists.\n",
    "# How would you handle checking if the file exists, and then adding new data without duplicating or erasing any previous data?\n",
    "\n",
    "import csv\n",
    "import os\n",
    "\n",
    "def append_to_csv(filename, new_data):\n",
    "    file_exists = os.path.isfile(filename)\n",
    "    \n",
    "    with open(filename, \"a\", newline=\"\") as file:\n",
    "        writer = csv.writer(file)\n",
    "        if not file_exists:  # Write headers if file is new\n",
    "            writer.writerow([\"Name\", \"Email\", \"Age\"])\n",
    "        writer.writerow(new_data)\n",
    "\n",
    "append_to_csv(\"users.csv\", [\"Alice\", \"alice@example.com\", 30])"
   ]
  },
  {
   "cell_type": "code",
   "execution_count": null,
   "id": "341ebd6a-541f-43f9-8ca2-5b63c38ee638",
   "metadata": {},
   "outputs": [],
   "source": []
  }
 ],
 "metadata": {
  "kernelspec": {
   "display_name": "Python 3 (ipykernel)",
   "language": "python",
   "name": "python3"
  },
  "language_info": {
   "codemirror_mode": {
    "name": "ipython",
    "version": 3
   },
   "file_extension": ".py",
   "mimetype": "text/x-python",
   "name": "python",
   "nbconvert_exporter": "python",
   "pygments_lexer": "ipython3",
   "version": "3.12.4"
  }
 },
 "nbformat": 4,
 "nbformat_minor": 5
}
