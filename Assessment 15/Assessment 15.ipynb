{
 "cells": [
  {
   "cell_type": "code",
   "execution_count": 1,
   "id": "1648c7e0-7915-4362-8c08-b5438627c6d3",
   "metadata": {},
   "outputs": [
    {
     "ename": "SyntaxError",
     "evalue": "invalid character '’' (U+2019) (4244227990.py, line 1)",
     "output_type": "error",
     "traceback": [
      "\u001b[1;36m  Cell \u001b[1;32mIn[1], line 1\u001b[1;36m\u001b[0m\n\u001b[1;33m    1. Imagine you’re building a simple system to check the status of a\u001b[0m\n\u001b[1;37m                  ^\u001b[0m\n\u001b[1;31mSyntaxError\u001b[0m\u001b[1;31m:\u001b[0m invalid character '’' (U+2019)\n"
     ]
    }
   ],
   "source": [
    "1. Imagine you’re building a simple system to check the status of a\n",
    "user’s account. If their account balance is greater than $1000,\n",
    "print “You’re a VIP member.” If their balance is between $500\n",
    "and $1000, print “You’re a regular member.” Otherwise, print\n",
    "“You’re a basic member.” How would you approach this?]"
   ]
  },
  {
   "cell_type": "code",
   "execution_count": 2,
   "id": "d6f43bed-7c43-493c-8c19-84e10c11c645",
   "metadata": {},
   "outputs": [
    {
     "ename": "SyntaxError",
     "evalue": "invalid character '’' (U+2019) (921658210.py, line 1)",
     "output_type": "error",
     "traceback": [
      "\u001b[1;36m  Cell \u001b[1;32mIn[2], line 1\u001b[1;36m\u001b[0m\n\u001b[1;33m    2. You’re designing a simple authentication system. If a user\u001b[0m\n\u001b[1;37m          ^\u001b[0m\n\u001b[1;31mSyntaxError\u001b[0m\u001b[1;31m:\u001b[0m invalid character '’' (U+2019)\n"
     ]
    }
   ],
   "source": [
    "2. You’re designing a simple authentication system. If a user\n",
    "enters the correct password, print “Access Granted,” but if they\n",
    "enter a wrong password three times, print “Too many failed\n",
    "attempts, try again later.” How can you implement this logic?"
   ]
  },
  {
   "cell_type": "code",
   "execution_count": 3,
   "id": "48fcea97-a35d-42da-a16c-1dc2a85fe588",
   "metadata": {},
   "outputs": [
    {
     "ename": "SyntaxError",
     "evalue": "unterminated string literal (detected at line 1) (3710003587.py, line 1)",
     "output_type": "error",
     "traceback": [
      "\u001b[1;36m  Cell \u001b[1;32mIn[3], line 1\u001b[1;36m\u001b[0m\n\u001b[1;33m    3. You're creating a program to check if a string contains any\u001b[0m\n\u001b[1;37m          ^\u001b[0m\n\u001b[1;31mSyntaxError\u001b[0m\u001b[1;31m:\u001b[0m unterminated string literal (detected at line 1)\n"
     ]
    }
   ],
   "source": [
    "3. You're creating a program to check if a string contains any\n",
    "vowels. How would you loop through the string and print\n",
    "“Contains vowels” or “No vowels found” based on the result?"
   ]
  },
  {
   "cell_type": "code",
   "execution_count": 4,
   "id": "d7745c58-7a8d-4b8c-ab33-ad2c0734c540",
   "metadata": {},
   "outputs": [
    {
     "ename": "SyntaxError",
     "evalue": "invalid syntax (626712623.py, line 1)",
     "output_type": "error",
     "traceback": [
      "\u001b[1;36m  Cell \u001b[1;32mIn[4], line 1\u001b[1;36m\u001b[0m\n\u001b[1;33m    4. Your task is to implement a function that accepts a list of\u001b[0m\n\u001b[1;37m       ^\u001b[0m\n\u001b[1;31mSyntaxError\u001b[0m\u001b[1;31m:\u001b[0m invalid syntax\n"
     ]
    }
   ],
   "source": [
    "4. Your task is to implement a function that accepts a list of\n",
    "names and returns a list of those names sorted alphabetically.\n",
    "How would you structure this function to ensure the list is\n",
    "returned sorted?"
   ]
  },
  {
   "cell_type": "code",
   "execution_count": 5,
   "id": "ea7b884f-8d8c-4145-9266-309859a48160",
   "metadata": {},
   "outputs": [
    {
     "ename": "SyntaxError",
     "evalue": "invalid character '’' (U+2019) (2875111238.py, line 1)",
     "output_type": "error",
     "traceback": [
      "\u001b[1;36m  Cell \u001b[1;32mIn[5], line 1\u001b[1;36m\u001b[0m\n\u001b[1;33m    5. You’re working on a project where you need to read data from\u001b[0m\n\u001b[1;37m          ^\u001b[0m\n\u001b[1;31mSyntaxError\u001b[0m\u001b[1;31m:\u001b[0m invalid character '’' (U+2019)\n"
     ]
    }
   ],
   "source": [
    "5. You’re working on a project where you need to read data from\n",
    "a CSV file. How would you open the file, read its contents, and\n",
    "display each row as a dictionary?"
   ]
  },
  {
   "cell_type": "code",
   "execution_count": 6,
   "id": "01b5056a-c076-4e08-a412-eeb0182ee4eb",
   "metadata": {},
   "outputs": [
    {
     "ename": "SyntaxError",
     "evalue": "invalid syntax (3829742791.py, line 1)",
     "output_type": "error",
     "traceback": [
      "\u001b[1;36m  Cell \u001b[1;32mIn[6], line 1\u001b[1;36m\u001b[0m\n\u001b[1;33m    6. For your project, you need to write user-generated content to a\u001b[0m\n\u001b[1;37m       ^\u001b[0m\n\u001b[1;31mSyntaxError\u001b[0m\u001b[1;31m:\u001b[0m invalid syntax\n"
     ]
    }
   ],
   "source": [
    "6. For your project, you need to write user-generated content to a\n",
    "file. How would you implement a function that appends new\n",
    "data to an existing file without overwriting it?"
   ]
  },
  {
   "cell_type": "code",
   "execution_count": 7,
   "id": "9ac1c1e1-fc79-4bb2-8154-c393bdc86c38",
   "metadata": {},
   "outputs": [
    {
     "ename": "SyntaxError",
     "evalue": "invalid character '’' (U+2019) (2809742255.py, line 1)",
     "output_type": "error",
     "traceback": [
      "\u001b[1;36m  Cell \u001b[1;32mIn[7], line 1\u001b[1;36m\u001b[0m\n\u001b[1;33m    7. You’re writing a program to track customer feedback. How\u001b[0m\n\u001b[1;37m          ^\u001b[0m\n\u001b[1;31mSyntaxError\u001b[0m\u001b[1;31m:\u001b[0m invalid character '’' (U+2019)\n"
     ]
    }
   ],
   "source": [
    "7. You’re writing a program to track customer feedback. How\n",
    "would you create a function to save user feedback to a text file,\n",
    "appending each new response without overwriting previous\n",
    "ones?"
   ]
  },
  {
   "cell_type": "code",
   "execution_count": null,
   "id": "df1404c6-37f3-48d3-935f-6cf5c3c63b3f",
   "metadata": {},
   "outputs": [],
   "source": []
  }
 ],
 "metadata": {
  "kernelspec": {
   "display_name": "Python 3 (ipykernel)",
   "language": "python",
   "name": "python3"
  },
  "language_info": {
   "codemirror_mode": {
    "name": "ipython",
    "version": 3
   },
   "file_extension": ".py",
   "mimetype": "text/x-python",
   "name": "python",
   "nbconvert_exporter": "python",
   "pygments_lexer": "ipython3",
   "version": "3.12.4"
  }
 },
 "nbformat": 4,
 "nbformat_minor": 5
}
