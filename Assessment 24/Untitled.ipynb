{
 "cells": [
  {
   "cell_type": "code",
   "execution_count": 31,
   "id": "71929a5b-0f83-4553-91b7-7738a5e4d1c1",
   "metadata": {},
   "outputs": [
    {
     "name": "stdout",
     "output_type": "stream",
     "text": [
      "Students grouped by grades: {'A': ['Amar', 'Sarthak'], 'C': ['Tushar'], 'B': ['Pankaj', 'Smit']}\n",
      "Highest name in each grade group: {'A': 'Sarthak', 'C': 'Tushar', 'B': 'Smit'}\n"
     ]
    }
   ],
   "source": [
    "# 1. You are given a list of tuples, where each tuple contains a student's name and their grades for a semester.\n",
    "# Using the collections module, implement a solution that groups students by the grade they received, and return\n",
    "# the highest grade in each group (e.g., A, B, C). Can you efficiently retrieve this data using a defaultdict or Counter?\n",
    "\n",
    "#import defaultdict from collection module\n",
    "from collections import defaultdict\n",
    "\n",
    "# student's name and their grades for a semester\n",
    "students =[\n",
    "    (\"Amar\" , 'A'),\n",
    "    (\"Tushar\" , 'C'),\n",
    "    (\"Sarthak\" , 'A'),\n",
    "    (\"Pankaj\" , 'B'),\n",
    "    (\"Smit\" , 'B')\n",
    "]\n",
    "\n",
    "## Create a defaultdict to group students by grade\n",
    "high_grades = defaultdict(list)\n",
    "\n",
    "# Group students by their grades\n",
    "for name, grade in students:\n",
    "    high_grades[grade].append(name)\n",
    "\n",
    "# Get the highest name in each grade group\n",
    "highest_students = {grade: max(names) for grade, names in high_grades.items()}\n",
    "\n",
    "print(\"Students grouped by grades:\", dict(high_grades))\n",
    "print(\"Highest name in each grade group:\", highest_students)"
   ]
  },
  {
   "cell_type": "code",
   "execution_count": 13,
   "id": "0417a3a8-3bfa-429b-98ba-009489c155a2",
   "metadata": {},
   "outputs": [
    {
     "name": "stdout",
     "output_type": "stream",
     "text": [
      "Cache: ['C', 'B', 'A']\n",
      "Cache: ['D', 'C', 'B']\n",
      "Cache: ['B', 'D', 'C']\n"
     ]
    }
   ],
   "source": [
    "# You need to design a deque-based caching system that allows fast addition and removal of elements from both ends.\n",
    "# Implement this system in Python, and demonstrate how it can efficiently manage a fixed-size\n",
    "# cache where the least recently used (LRU) item is removed when the cache exceeds its capacity.\n",
    "\n",
    "from collections import deque\n",
    "\n",
    "class SimpleLRUCache:\n",
    "    def __init__(self, capacity):\n",
    "        self.cache = deque()  # Stores items\n",
    "        self.lookup = set()   # Helps in quick item lookup\n",
    "        self.capacity = capacity  # Max size of cache\n",
    "\n",
    "    def access(self, item):\n",
    "        # Access an item, moving it to the front if it exists, or adding it\n",
    "        if item in self.lookup:\n",
    "            self.cache.remove(item)  # Remove from current position\n",
    "        elif len(self.cache) >= self.capacity:\n",
    "            removed = self.cache.pop()  # Remove LRU item (from the back)\n",
    "            self.lookup.remove(removed)\n",
    "\n",
    "        self.cache.appendleft(item)  # Add new/used item at the front\n",
    "        self.lookup.add(item)\n",
    "\n",
    "    def show(self):\n",
    "        # Print the cache from most to least recently used.\n",
    "        print(\"Cache:\", list(self.cache))\n",
    "\n",
    "\n",
    "lru = SimpleLRUCache(3)\n",
    "lru.access(\"A\")\n",
    "lru.access(\"B\")\n",
    "lru.access(\"C\")\n",
    "lru.show()  # Cache: ['C', 'B', 'A']\n",
    "\n",
    "lru.access(\"D\")  # 'A' is removed (LRU)\n",
    "lru.show()  # Cache: ['D', 'C', 'B']\n",
    "\n",
    "lru.access(\"B\")  # Move 'B' to front\n",
    "lru.show()  # Cache: ['B', 'D', 'C']"
   ]
  },
  {
   "cell_type": "code",
   "execution_count": 32,
   "id": "894e6eb5-a65a-482c-b009-01d5812d9e68",
   "metadata": {},
   "outputs": [
    {
     "name": "stdout",
     "output_type": "stream",
     "text": [
      "Total sales for each product:\n",
      "iphone: 5\n",
      "redmi: 3\n",
      "realme: 2\n",
      "poco: 7\n",
      "samsung: 4\n",
      "mi: 1\n",
      "nokia: 2\n",
      "LG: 8\n",
      "micromax: 1\n",
      "gonee: 3\n",
      "\n",
      "Top 3 products with the highest sales:\n",
      "LG: 8\n",
      "poco: 7\n",
      "iphone: 5\n"
     ]
    }
   ],
   "source": [
    "# 3. Imagine you have a list of sales transactions, each containing a product name and a quantity sold.\n",
    "# Using Counter, calculate the total sales for each product, and return the three products with the highest total sales.\n",
    "\n",
    "from collections import Counter\n",
    "\n",
    "# Sample list of sales transactions\n",
    "sales_transactions = [\n",
    "    (\"iphone\", 5),\n",
    "    (\"redmi\", 3),\n",
    "    (\"realme\", 2),\n",
    "    (\"poco\", 7),\n",
    "    (\"samsung\", 4),\n",
    "    (\"mi\", 1),\n",
    "    (\"nokia\", 2),\n",
    "    (\"LG\", 8),\n",
    "    (\"micromax\", 1),\n",
    "    (\"gonee\", 3),\n",
    "]\n",
    "\n",
    "# Step 1: Calculate total sales for each product using Counter\n",
    "total_sales = Counter()\n",
    "for product, quantity in sales_transactions:\n",
    "    total_sales[product] += quantity\n",
    "\n",
    "# Step 2: Get the top 3 products with the highest sales\n",
    "top_products = total_sales.most_common(3)\n",
    "\n",
    "# Print the results\n",
    "print(\"Total sales for each product:\")\n",
    "for product, total in total_sales.items():\n",
    "    print(f\"{product}: {total}\")\n",
    "\n",
    "print(\"\\nTop 3 products with the highest sales:\")\n",
    "for product, total in top_products:\n",
    "    print(f\"{product}: {total}\")\n",
    "\n",
    "# print(\"Total sales per product:\", dict())\n",
    "# print(\"Top 3 products:\", )"
   ]
  },
  {
   "cell_type": "code",
   "execution_count": 33,
   "id": "9b21f382-ea2d-42f3-913d-a467be8ded49",
   "metadata": {},
   "outputs": [
    {
     "name": "stdout",
     "output_type": "stream",
     "text": [
      "Department: Engineering\n",
      "  - Amar (Developer)\n",
      "  - Badal (Manager)\n",
      "  - Tejas (Developer)\n",
      "\n",
      "Department: Design\n",
      "  - Chanakya (Designer)\n",
      "  - Ganesh (Designer)\n",
      "\n",
      "Department: Data Science\n",
      "  - Dev (Analyst)\n",
      "  - Himesh (Analyst)\n",
      "\n",
      "Department: HR\n",
      "  - Farukh (Manager)\n",
      "\n"
     ]
    }
   ],
   "source": [
    "# # 4. Given a list of nested dictionaries with data about employees in a company (name, role, department),\n",
    "# use defaultdict from the collections module to create a solution that returns a dictionary mapping each department to the list of employees working in that department.\n",
    "# Ensure the solution handles edge cases where no employees are present in some departments.\n",
    "    \n",
    "from collections import defaultdict\n",
    "\n",
    "# Sample list of employees (nested dictionaries)\n",
    "employees = [\n",
    "    {\"name\": \"Amar\", \"role\": \"Developer\", \"department\": \"Engineering\"},\n",
    "    {\"name\": \"Badal\", \"role\": \"Manager\", \"department\": \"Engineering\"},\n",
    "    {\"name\": \"Chanakya\", \"role\": \"Designer\", \"department\": \"Design\"},\n",
    "    {\"name\": \"Dev\", \"role\": \"Analyst\", \"department\": \"Data Science\"},\n",
    "    {\"name\": \"Tejas\", \"role\": \"Developer\", \"department\": \"Engineering\"},\n",
    "    {\"name\": \"Farukh\", \"role\": \"Manager\", \"department\": \"HR\"},\n",
    "    {\"name\": \"Ganesh\", \"role\": \"Designer\", \"department\": \"Design\"},\n",
    "    {\"name\": \"Himesh\", \"role\": \"Analyst\", \"department\": \"Data Science\"},\n",
    "]\n",
    "\n",
    "# Step 1: Create a defaultdict to map departments to lists of employees\n",
    "department_employees = defaultdict(list)\n",
    "\n",
    "# Step 2: Populate the defaultdict with employees\n",
    "for employee in employees:\n",
    "    department = employee[\"department\"]\n",
    "    department_employees[department].append(employee)\n",
    "\n",
    "# Step 3: Convert defaultdict to a regular dictionary (optional, for better readability)\n",
    "department_employees = dict(department_employees)\n",
    "\n",
    "# Print the result\n",
    "for department, employees_in_dept in department_employees.items():\n",
    "    print(f\"Department: {department}\")\n",
    "    for employee in employees_in_dept:\n",
    "        print(f\"  - {employee['name']} ({employee['role']})\")\n",
    "    print()"
   ]
  },
  {
   "cell_type": "code",
   "execution_count": 35,
   "id": "16082e8e-35bd-4d28-bb0d-54f3fe264780",
   "metadata": {},
   "outputs": [
    {
     "name": "stdout",
     "output_type": "stream",
     "text": [
      "\n",
      "Top 5 Highest Spenders:\n",
      "1. Bob: $520.75\n",
      "2. Eve: $500.00\n",
      "3. Grace: $420.30\n",
      "4. Alice: $350.75\n",
      "5. Helen: $320.75\n"
     ]
    }
   ],
   "source": [
    "# 5. You are tasked with processing a large CSV file containing user information, including their name, email, and purchase history.\n",
    "# Write a Python script that reads the file and calculates the total amount spent by each user.\n",
    "# Ensure the script can handle missing values and invalid formats, and generate a summary report for the top 5 highest spenders.\n",
    "\n",
    "import csv\n",
    "\n",
    "def process_csv(file_path):\n",
    "    \n",
    "    user_spending = {}  # Dictionary to store total spending per user\n",
    "\n",
    "    with open(file_path, mode=\"r\", encoding=\"utf-8\") as file:\n",
    "        reader = csv.DictReader(file)\n",
    "\n",
    "        for row in reader:\n",
    "            name = row.get(\"name\", \"\").strip()\n",
    "            amount_spent = row.get(\"amount_spent\", \"\").strip()\n",
    "\n",
    "            if not name or not amount_spent:  # Skip missing values\n",
    "                continue\n",
    "\n",
    "            try:\n",
    "                amount = float(amount_spent)  # Convert to number\n",
    "                user_spending[name] = user_spending.get(name, 0) + amount\n",
    "            except ValueError:\n",
    "                continue  # Skip invalid numbers\n",
    "\n",
    "    # Get top 5 highest spenders\n",
    "    top_spenders = sorted(user_spending.items(), key=lambda x: x[1], reverse=True)[:5]\n",
    "\n",
    "    # Print results\n",
    "    print(\"\\nTop 5 Highest Spenders:\")\n",
    "    for i, (user, total) in enumerate(top_spenders, start=1):\n",
    "        print(f\"{i}. {user}: ${total:.2f}\")\n",
    "\n",
    "# Example usage\n",
    "file_path = \"u_data.csv\"  # Replace with your actual file\n",
    "process_csv(file_path)"
   ]
  },
  {
   "cell_type": "code",
   "execution_count": 29,
   "id": "46b6d1fc-e17e-43ed-8321-702b096c8201",
   "metadata": {},
   "outputs": [],
   "source": [
    "# # 6. Consider a list of employee records, each represented as a dictionary containing the employee's name, department, and years of experience.\n",
    "# Use list comprehension to filter out employees who have less than 5 years of experience and work in the HR department.\n",
    "# How would you perform this task in one line of code?\n",
    "\n",
    "filtered_employees = [emp for emp in employees if not (emp[\"department\"] == \"HR\" and emp[\"years_of_experience\"] < 5)]"
   ]
  },
  {
   "cell_type": "code",
   "execution_count": 37,
   "id": "d0c29f08-e2d7-4e64-b071-53a971ab9352",
   "metadata": {},
   "outputs": [
    {
     "name": "stdout",
     "output_type": "stream",
     "text": [
      "[{'name': 'Amit', 'department': 'HR', 'years_of_experience': 6}, {'name': 'Banny', 'department': 'Engineering', 'years_of_experience': 4}, {'name': 'Dhaval', 'department': 'HR', 'years_of_experience': 7}, {'name': 'Emamul', 'department': 'Marketing', 'years_of_experience': 10}]\n"
     ]
    }
   ],
   "source": [
    "# Sample list of employee records\n",
    "employees = [\n",
    "    {\"name\": \"Amit\", \"department\": \"HR\", \"years_of_experience\": 6},\n",
    "    {\"name\": \"Banny\", \"department\": \"Engineering\", \"years_of_experience\": 4},\n",
    "    {\"name\": \"Chetan\", \"department\": \"HR\", \"years_of_experience\": 3},\n",
    "    {\"name\": \"Dhaval\", \"department\": \"HR\", \"years_of_experience\": 7},\n",
    "    {\"name\": \"Emamul\", \"department\": \"Marketing\", \"years_of_experience\": 10},\n",
    "]\n",
    "\n",
    "# Filter employees using list comprehension\n",
    "filtered_employees = [emp for emp in employees if not (emp[\"department\"] == \"HR\" and emp[\"years_of_experience\"] < 5)]\n",
    "\n",
    "# Print the filtered employees\n",
    "print(filtered_employees)"
   ]
  },
  {
   "cell_type": "code",
   "execution_count": 44,
   "id": "f9c1b8c4-589b-40fb-9471-da4036f0afe6",
   "metadata": {},
   "outputs": [
    {
     "name": "stdout",
     "output_type": "stream",
     "text": [
      "{'2024-02-10': ['login'], '2024-02-11': ['view_page'], '2024-02-12': ['logout']}\n"
     ]
    }
   ],
   "source": [
    "# 7. Suppose you have a log file where each entry contains the date and an associated action, like a user login or logout.\n",
    "# Using the Counter from the collections module, write a function that identifies the most frequent action for each day.\n",
    "# Can you handle cases where multiple actions have the same frequency?\n",
    "\n",
    "from collections import Counter, defaultdict\n",
    "\n",
    "def most_frequent_action(log_entries):\n",
    "    \n",
    "    action_counts = defaultdict(Counter)  # Stores action counts per day\n",
    "\n",
    "    # Count actions per day\n",
    "    for date, action in log_entries:\n",
    "        action_counts[date][action] += 1\n",
    "\n",
    "    # Find the most frequent action(s) per day\n",
    "    result = {}\n",
    "    for date, counter in action_counts.items():\n",
    "        max_count = max(counter.values())  # Get highest count\n",
    "        most_frequent = [act for act, count in counter.items() if count == max_count]\n",
    "        result[date] = most_frequent\n",
    "\n",
    "    return result\n",
    "\n",
    "# Example log data\n",
    "log_data = [\n",
    "    (\"2024-02-10\", \"login\"),\n",
    "    (\"2024-02-10\", \"logout\"),\n",
    "    (\"2024-02-10\", \"login\"),\n",
    "    (\"2024-02-11\", \"login\"),\n",
    "    (\"2024-02-11\", \"view_page\"),\n",
    "    (\"2024-02-11\", \"view_page\"),\n",
    "    (\"2024-02-12\", \"logout\"),\n",
    "    (\"2024-02-12\", \"logout\"),\n",
    "    (\"2024-02-12\", \"purchase\"),\n",
    "]\n",
    "\n",
    "# Call function and print results\n",
    "print(most_frequent_action(log_data))"
   ]
  },
  {
   "cell_type": "code",
   "execution_count": null,
   "id": "994762d2-10a2-440d-a8d0-a3b9e1ff2ce5",
   "metadata": {},
   "outputs": [],
   "source": []
  }
 ],
 "metadata": {
  "kernelspec": {
   "display_name": "Python 3 (ipykernel)",
   "language": "python",
   "name": "python3"
  },
  "language_info": {
   "codemirror_mode": {
    "name": "ipython",
    "version": 3
   },
   "file_extension": ".py",
   "mimetype": "text/x-python",
   "name": "python",
   "nbconvert_exporter": "python",
   "pygments_lexer": "ipython3",
   "version": "3.12.4"
  }
 },
 "nbformat": 4,
 "nbformat_minor": 5
}
