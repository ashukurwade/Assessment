{
 "cells": [
  {
   "cell_type": "code",
   "execution_count": 18,
   "id": "15f28f96-b939-42c7-b4b5-5e36a815c31f",
   "metadata": {},
   "outputs": [
    {
     "name": "stdout",
     "output_type": "stream",
     "text": [
      "Employee- Name: Alice, Salary: $50000\n",
      "Employee- Name: Bob, Salary: $60000\n",
      "Employee- Name: Charlie, Salary: $55000\n",
      "Employee- Name: Smith, Salary: $70000\n",
      "Employee- Name: Johnson, Salary: $65000\n",
      "Employee- Name: Brown, Salary: $80000\n"
     ]
    }
   ],
   "source": [
    "# 1. You need to read a file containing employee names andvtheir salary information, and display the data in a readable format.\n",
    "# How would you open the file, read its content, and then print out the names and salaries in Python?\n",
    "\n",
    "with open(\"filename.txt\", mode = \"r\") as file: # Open the file in read mode\n",
    "    for line in file: ## Read each line from the file\n",
    "        stripped_line = line.strip() #Stripping Whitespace: line.strip() removes leading/trailing spaces and newline characters.\n",
    "        if stripped_line: # Skip empty lines\n",
    "            name, salary = stripped_line.split(\",\") # Strip newline characters and split by comma\n",
    "            # print(f\"Employee(name:{name.split()}, salary:${salary.split()})\")\n",
    "            print(f\"Employee- Name: {name.strip()}, Salary: ${salary.strip()}\") # Print the formatted output\n",
    "            # print(f\"Employee: {name}, Salary: ${salary}\") "
   ]
  },
  {
   "cell_type": "code",
   "execution_count": 34,
   "id": "22270e03-f0b4-4749-ab85-09cb10fef7e0",
   "metadata": {},
   "outputs": [
    {
     "name": "stdout",
     "output_type": "stream",
     "text": [
      "Total Revenue Generated: $9,001.25\n"
     ]
    }
   ],
   "source": [
    "# 2. You have a CSV file containing sales data, where each row has the fields \"product_name\", \"quantity_sold\", and \"revenue\".\n",
    "# Write a Python program that reads this CSV and calculates the total revenue generated.\n",
    "\n",
    "import csv\n",
    "\n",
    "file = \"s_data.csv\" # Define the CSV file\n",
    "total_rev = 0.0 # Initialize total revenue\n",
    "\n",
    "with open(file, newline = '', mode = 'r') as file: ## Open and read the CSV file\n",
    "    reader = csv.DictReader(file) #csv.DictReader to read the CSV file\n",
    "    next(reader) ## Skip the header row\n",
    "    for row in reader:\n",
    "        total_rev += float(row['revenue'])  # Convert the revenue field to float and add to total\n",
    "\n",
    "# print(f\"Total Revenue: ${total_rev:.2f}\")\n",
    "print(f\"Total Revenue Generated: ${total_rev:,.2f}\")"
   ]
  },
  {
   "cell_type": "code",
   "execution_count": 41,
   "id": "81a227e0-9f3b-4444-b495-e5b9fa5d1a12",
   "metadata": {},
   "outputs": [
    {
     "name": "stdout",
     "output_type": "stream",
     "text": [
      "[100]\n"
     ]
    }
   ],
   "source": [
    "# 3. You’re working with a list of dictionaries, each representing a product.\n",
    "# Each dictionary contains a price key. Write a list comprehension to create a list of all the product prices that are greater than $50.\n",
    "\n",
    "product_list = [\n",
    "    {'name':'pant', 'price':100},\n",
    "    {'name':'shirt', 'price':50},\n",
    "    {'name':'t-shirt', 'price':30},\n",
    "    {'name':'cap', 'price':20},\n",
    "]\n",
    "\n",
    "product_high_price = [product['price'] for product in product_list if product['price'] >50] ## List comprehension to get prices greater than $50\n",
    "\n",
    "print(product_high_price)\n"
   ]
  },
  {
   "cell_type": "code",
   "execution_count": 47,
   "id": "406cdb05-4799-4758-a84d-4b5acf0d5abc",
   "metadata": {},
   "outputs": [],
   "source": [
    "# You're building an app that logs student attendance in a CSV file. Write a function that allows you to append new\n",
    "# attendance records to the CSV file without overwriting the existing data.\n",
    "\n",
    "import csv\n",
    "\n",
    "def add_attendance(filename, new_records):\n",
    "    with open(filename, 'a', newline='') as file:\n",
    "        writer = csv.DictWriter(file, fieldnames=new_records[0].keys())\n",
    "        \n",
    "        # Write header only if file is empty/new\n",
    "        if file.tell() == 0:\n",
    "            writer.writeheader()\n",
    "            \n",
    "        writer.writerows(new_records)\n",
    "\n",
    "\n",
    "# New attendance data to add\n",
    "records = [\n",
    "    {'student': 'Alex', 'date': '2023-10-02', 'status': 'present'},\n",
    "    {'student': 'Sam', 'date': '2023-10-02', 'status': 'absent'}\n",
    "]\n",
    "\n",
    "# Append to the CSV file\n",
    "add_attendance('attendance.csv', records)"
   ]
  },
  {
   "cell_type": "code",
   "execution_count": 52,
   "id": "700aa468-557e-4ba2-bac2-b52af250f9bf",
   "metadata": {},
   "outputs": [],
   "source": [
    "# 5. You want to create a function that will take data from the user and save it into a CSV file. How would you handle the\n",
    "# process of opening the file, writing the data, and ensuring that the file is closed properly afterward?\n",
    "\n",
    "import csv\n",
    "\n",
    "def save_to_csv(filename, data):\n",
    "    with open(filename, \"a\", newline=\"\") as file:\n",
    "        csv.writer(file).writerow(data)\n",
    "\n",
    "save_to_csv(\"users.csv\", [\"Vishal Wagh\", 25, \"Pune\"])"
   ]
  },
  {
   "cell_type": "code",
   "execution_count": 53,
   "id": "a98d0ed1-80a8-489e-be5d-6214b1bd38d6",
   "metadata": {},
   "outputs": [
    {
     "name": "stdout",
     "output_type": "stream",
     "text": [
      "Cannot divide by zero!\n"
     ]
    }
   ],
   "source": [
    "# 6. You are implementing a division operation in a calculator app. If the user inputs a zero as the denominator, how\n",
    "# would you catch this error and return a user-friendly message instead of crashing the program?\n",
    "\n",
    "def divide(a, b):\n",
    "    try:\n",
    "        return a / b\n",
    "    except ZeroDivisionError:\n",
    "        return \"Cannot divide by zero!\"\n",
    "\n",
    "print(divide(10, 0))\n"
   ]
  },
  {
   "cell_type": "code",
   "execution_count": null,
   "id": "00612bf9-add7-4424-9a6d-0d863bb47154",
   "metadata": {},
   "outputs": [],
   "source": []
  }
 ],
 "metadata": {
  "kernelspec": {
   "display_name": "Python 3 (ipykernel)",
   "language": "python",
   "name": "python3"
  },
  "language_info": {
   "codemirror_mode": {
    "name": "ipython",
    "version": 3
   },
   "file_extension": ".py",
   "mimetype": "text/x-python",
   "name": "python",
   "nbconvert_exporter": "python",
   "pygments_lexer": "ipython3",
   "version": "3.12.4"
  }
 },
 "nbformat": 4,
 "nbformat_minor": 5
}
