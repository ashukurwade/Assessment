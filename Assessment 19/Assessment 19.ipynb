{
 "cells": [
  {
   "cell_type": "code",
   "execution_count": 4,
   "id": "b9a15eee-5a9a-4450-a772-a3cb695ceb86",
   "metadata": {},
   "outputs": [],
   "source": [
    "# #1. You’re working on a text processing tool that extracts all phone numbers from a document. The phone numbers can vary in format\n",
    "# # (e.g., with or without country code, spaces, dashes). How would you write a regular expression to handle these variations and\n",
    "# # extract all the phone numbers efficiently?\n",
    "\n",
    "# # regex = (?:\\+?\\d{1,3}[-.\\s]?)?\\(?\\d{1,4}\\)?[-.\\s]?\\d{1,4}[-.\\s]?\\d{1,9}\n",
    "\n",
    "# Explanation:\n",
    "#1. \\+?\\d{1,3}: Matches an optional country code (e.g., +1, +44), which can be 1 to 3 digits long.\n",
    "#2. [-.\\s]?: Matches an optional separator (hyphen, dot, or space) after the country code.\n",
    "#3. \\(?\\d{1,4}\\)?: Matches an optional area code, which can be enclosed in parentheses and 1 to 4 digits long.\n",
    "#4. [-.\\s]?: Matches an optional separator after the area code.\n",
    "#5. \\d{1,4}: Matches the first part of the local number, which can be 1 to 4 digits long.\n",
    "#6. [-.\\s]?: Matches an optional separator between parts of the local number.\n",
    "#7. \\d{1,4}: Matches the second part of the local number, which can be 1 to 4 digits long.\n",
    "#8. [-.\\s]?: Matches an optional separator between parts of the local number.\n",
    "#9. \\d{1,9}: Matches the final part of the local number, which can be 1 to 9 digits long."
   ]
  },
  {
   "cell_type": "code",
   "execution_count": 5,
   "id": "f5388447-7303-4585-b84b-a6852d597d73",
   "metadata": {},
   "outputs": [
    {
     "name": "stdout",
     "output_type": "stream",
     "text": [
      "['+1-800-555-1234', '+44 20 7946 0958', '(123) 456-7890', '123.456.7890', '1234567890']\n"
     ]
    }
   ],
   "source": [
    "import re\n",
    "\n",
    "text = \"\"\"\n",
    "Here are some phone numbers: +1-800-555-1234, +44 20 7946 0958, (123) 456-7890, 123.456.7890, and 1234567890.\n",
    "\"\"\"\n",
    "\n",
    "# Define the regex pattern\n",
    "pattern = r'(?:\\+?\\d{1,3}[-.\\s]?)?\\(?\\d{1,4}\\)?[-.\\s]?\\d{1,4}[-.\\s]?\\d{1,9}'\n",
    "\n",
    "# Find all matches\n",
    "phone_numbers = re.findall(pattern, text)\n",
    "\n",
    "# Print the extracted phone numbers\n",
    "print(phone_numbers)"
   ]
  },
  {
   "cell_type": "code",
   "execution_count": 6,
   "id": "8d48555e-c121-41b0-a9a1-e9f87aa80b1a",
   "metadata": {},
   "outputs": [],
   "source": [
    "# 2. Imagine you're cleaning a large dataset that contains addresses in different formats, some with unnecessary spaces and inconsistent capitalization.\n",
    "# How would you use regular expressions to standardize and clean the address data, ensuring you only capture relevant information like street names and zip codes?\n",
    "\n"
   ]
  },
  {
   "cell_type": "code",
   "execution_count": 10,
   "id": "2333c21a-8059-4e61-a3b5-b6f86cda8b4c",
   "metadata": {},
   "outputs": [
    {
     "name": "stdout",
     "output_type": "stream",
     "text": [
      "Original:   123 main st. , new york , NY   10001  \n",
      "Cleaned:  123 Main St, New York, Ny 10001\n",
      "\n",
      "Original: 456 BROADWAY,, Los Angeles, ca 90012 \n",
      "Cleaned:  456 Broadway, , Los Angeles, Ca 90012\n",
      "\n",
      "Original: 789 Elm-street Apt#5, Boston, MA 02108-1234\n",
      "Cleaned:  789 Elm-Street Apt#5, Boston, Ma 02108-1234\n",
      "\n",
      "Original: PO Box 567, Houston ,TX 77001\n",
      "Cleaned:  Po Box 567, Houston, Tx 77001\n",
      "\n"
     ]
    }
   ],
   "source": [
    "import re\n",
    "\n",
    "def clean_address(address):\n",
    "    # Remove extra spaces\n",
    "    address = re.sub(r'\\s+', ' ', address.strip())\n",
    "    # Standardize capitalization\n",
    "    address = address.title()\n",
    "    # Remove unnecessary punctuation (except for #, -, and ,)\n",
    "    address = re.sub(r'[^a-zA-Z0-9,\\s\\-#]', '', address)\n",
    "    # Ensure a single comma space format\n",
    "    address = re.sub(r'\\s*,\\s*', ', ', address)\n",
    "\n",
    "    return address\n",
    "\n",
    "# Example dataset\n",
    "addresses = [\n",
    "    \"  123 main st. , new york , NY   10001  \",\n",
    "    \"456 BROADWAY,, Los Angeles, ca 90012 \",\n",
    "    \"789 Elm-street Apt#5, Boston, MA 02108-1234\",\n",
    "    \"PO Box 567, Houston ,TX 77001\"\n",
    "]\n",
    "\n",
    "# Clean addresses\n",
    "cleaned_addresses = [clean_address(addr) for addr in addresses]\n",
    "\n",
    "# Print results\n",
    "for original, cleaned in zip(addresses, cleaned_addresses):\n",
    "    print(f\"Original: {original}\\nCleaned:  {cleaned}\\n\")"
   ]
  },
  {
   "cell_type": "code",
   "execution_count": 14,
   "id": "604332e3-cf04-4bb1-84db-a053c786ea8b",
   "metadata": {},
   "outputs": [],
   "source": [
    "# # 3. You have a string containing multiple sentences, and you need to extract all the words that are capitalized.\n",
    "# # How would you write a regular expression to find these words and ensure that the pattern works for different punctuation marks and sentence structures?\n",
    "\n",
    "# # regex = \\b[A-Z][a-zA-Z]*\\b\n",
    "\n",
    "# Explanation:\n",
    "# 1. \\b: Matches a word boundary to ensure we capture whole words.\n",
    "# 2. [A-Z]: Matches an uppercase letter at the beginning of the word.\n",
    "# 3. [a-zA-Z]*: Matches zero or more lowercase or uppercase letters following the initial capital letter.\n",
    "# 4. \\b: Ensures the match ends at a word boundary.\n",
    "\n",
    "# Handling Edge Cases:\n",
    "# If you want to include words with apostrophes (e.g., \"John's\") or hyphens (e.g., \"New-York\"), you can modify the regex slightly:\n",
    "# regex = \\b[A-Z][a-zA-Z'’-]*\\b\n"
   ]
  },
  {
   "cell_type": "code",
   "execution_count": 13,
   "id": "109805b9-0d96-4bc3-8250-3dac59a119db",
   "metadata": {},
   "outputs": [
    {
     "name": "stdout",
     "output_type": "stream",
     "text": [
      "['Hello', 'This', 'Test', 'The', 'Quick', 'Brown', 'Fox', 'Lazy', 'Dog', 'In', 'New-York', 'Statue', 'Liberty', 'Dr', \"Smith's\", 'Mr', \"Johnson's\", 'PM']\n"
     ]
    }
   ],
   "source": [
    "import re\n",
    "\n",
    "text = \"\"\"\n",
    "Hello! This is a Test. The Quick Brown Fox jumps over the Lazy Dog. \n",
    "In New-York, you can visit the Statue of Liberty. \n",
    "Dr. Smith's and Mr. Johnson's meeting is at 5 PM.\n",
    "\"\"\"\n",
    "\n",
    "# Define the regex pattern\n",
    "pattern = r'\\b[A-Z][a-zA-Z\\'’-]*\\b'\n",
    "\n",
    "# Find all matches\n",
    "capitalized_words = re.findall(pattern, text)\n",
    "\n",
    "# Print the extracted capitalized words\n",
    "print(capitalized_words)"
   ]
  },
  {
   "cell_type": "code",
   "execution_count": 18,
   "id": "0096a8c0-2691-468d-b708-fc8b3054148e",
   "metadata": {},
   "outputs": [],
   "source": [
    "# 4.Suppose you're building a system that needs to create or modify several files in a directory.\n",
    "# How would you handle cases where the file or directory doesn’t exist or the program doesn't have permission to write to it, while providing meaningful error messages to the user?\n",
    "\n",
    "# Steps:\n",
    "# Check if the directory exists: If it doesn't, create it.\n",
    "# Check for write permissions: Ensure the program has permission to write to the directory.\n",
    "# Handle file operations: Create or modify files, catching and handling exceptions.\n",
    "# Provide meaningful error messages: Inform the user about what went wrong."
   ]
  },
  {
   "cell_type": "code",
   "execution_count": 19,
   "id": "8aecb951-c84b-4fb5-a35a-ed2703b2e0fb",
   "metadata": {},
   "outputs": [
    {
     "name": "stdout",
     "output_type": "stream",
     "text": [
      "File saved: my_directory\\example.txt\n",
      "File saved: /restricted/path\\example.txt\n"
     ]
    }
   ],
   "source": [
    "import os\n",
    "\n",
    "def safe_write_file(directory, filename, content):\n",
    "    try:\n",
    "        # Create directory if it doesn't exist\n",
    "        os.makedirs(directory, exist_ok=True)\n",
    "        # Define full file path\n",
    "        file_path = os.path.join(directory, filename)\n",
    "        # Write to the file\n",
    "        with open(file_path, \"w\") as file:\n",
    "            file.write(content)\n",
    "        print(f\"File saved: {file_path}\")\n",
    "\n",
    "    except PermissionError:\n",
    "        print(f\"Error: No permission to write to '{directory}'.\")\n",
    "\n",
    "    except OSError as e:\n",
    "        print(f\"Error: {e}\")\n",
    "\n",
    "safe_write_file(\"my_directory\", \"example.txt\", \"Hello, world!\")\n",
    "safe_write_file(\"/restricted/path\", \"example.txt\", \"Test content.\")"
   ]
  },
  {
   "cell_type": "code",
   "execution_count": 21,
   "id": "c9c52036-8309-43dd-af09-9640bf5d6a37",
   "metadata": {},
   "outputs": [],
   "source": [
    "# 5. You're working with a CSV file that contains customer data with  fields like Name, Email, Phone, and Address.\n",
    "# How would you read  this file and print the names and email addresses of all customers,\n",
    "# ensuring that each row is processed correctly and that any missing  values are handled gracefully?"
   ]
  },
  {
   "cell_type": "code",
   "execution_count": 1,
   "id": "2b797fe8-501a-4d0e-aba6-740bb2cbe8f4",
   "metadata": {},
   "outputs": [
    {
     "name": "stdout",
     "output_type": "stream",
     "text": [
      "Error: File 'Assessment 19/c.csv' not found.\n"
     ]
    }
   ],
   "source": [
    "import csv\n",
    "\n",
    "def read_customer_data(file_path):\n",
    "    try:\n",
    "        with open(file_path, mode='r', encoding='utf-8') as file:\n",
    "            reader = csv.DictReader(file)  # Read CSV as dictionary\n",
    "            \n",
    "            for row in reader:\n",
    "                name = row[\"Name\"] if row[\"Name\"] else \"Unknown\"\n",
    "                email = row[\"Email\"] if row[\"Email\"] else \"No Email\"\n",
    "                print(f\"Name: {name}, Email: {email}\")\n",
    "\n",
    "    except FileNotFoundError:\n",
    "        print(f\"Error: File '{file_path}' not found.\")\n",
    "\n",
    "    except Exception as e:\n",
    "        print(f\"An error occurred: {e}\")\n",
    "\n",
    "read_customer_data(\"Assessment 19/c.csv\")"
   ]
  },
  {
   "cell_type": "code",
   "execution_count": 4,
   "id": "0abf07f9-5d55-43ee-9242-406c1f20e328",
   "metadata": {},
   "outputs": [],
   "source": [
    "# 6. You're tasked with updating a CSV file where each row represents an order, and the Status field needs to be updated based on\n",
    "# whether the order was shipped or not. How would you update the status for each order in the file, and write the modified data back to the CSV file, making sure that no data is lost?\n"
   ]
  },
  {
   "cell_type": "code",
   "execution_count": 6,
   "id": "da1f6b18-5da1-455f-adfc-18a3a1227556",
   "metadata": {},
   "outputs": [
    {
     "name": "stdout",
     "output_type": "stream",
     "text": [
      "Order statuses updated.\n"
     ]
    }
   ],
   "source": [
    "import csv\n",
    "\n",
    "def update_order_status(file_path):\n",
    "    rows = []\n",
    "\n",
    "    try:\n",
    "        # Read the CSV file\n",
    "        with open(file_path, mode='r', newline='', encoding='utf-8') as file:\n",
    "            reader = csv.DictReader(file) #Read the CSV file using csv.DictReader()\n",
    "            fieldnames = reader.fieldnames\n",
    "\n",
    "            for row in reader:\n",
    "                row[\"Status\"] = \"Shipped\" if row.get(\"Shipped\") == \"Yes\" else \"Pending\"  #Modify the Status field based on conditions (e.g., \"Shipped\" or \"Pending\").\n",
    "                rows.append(row)\n",
    "\n",
    "        # Write the updated data back to the file\n",
    "        with open(file_path, mode='w', newline='', encoding='utf-8') as file:\n",
    "            writer = csv.DictWriter(file, fieldnames=fieldnames) #Write the updated data back to the file using csv.DictWriter()\n",
    "            writer.writeheader()\n",
    "            writer.writerows(rows)\n",
    "\n",
    "        print(\"Order statuses updated.\")\n",
    "\n",
    "    except FileNotFoundError:\n",
    "        print(f\"Error: File '{file_path}' not found.\")\n",
    "\n",
    "update_order_status(\"orders.csv\")"
   ]
  },
  {
   "cell_type": "code",
   "execution_count": null,
   "id": "bc309e6a-0c0f-4c6c-a10f-ac05b34960fc",
   "metadata": {},
   "outputs": [],
   "source": []
  }
 ],
 "metadata": {
  "kernelspec": {
   "display_name": "Python 3 (ipykernel)",
   "language": "python",
   "name": "python3"
  },
  "language_info": {
   "codemirror_mode": {
    "name": "ipython",
    "version": 3
   },
   "file_extension": ".py",
   "mimetype": "text/x-python",
   "name": "python",
   "nbconvert_exporter": "python",
   "pygments_lexer": "ipython3",
   "version": "3.12.4"
  }
 },
 "nbformat": 4,
 "nbformat_minor": 5
}
