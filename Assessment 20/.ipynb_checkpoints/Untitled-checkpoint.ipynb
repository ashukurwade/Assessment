{
 "cells": [
  {
   "cell_type": "raw",
   "id": "de8e5243-d7cc-4b0c-bbc3-2ed57d499068",
   "metadata": {},
   "source": [
    "1. Suppose you have a CSV file containing columns for name, age, and address. Write a Python function that reads the CSV file and returns a dictionary where the name is the key and the value is a tuple containing the age and address."
   ]
  },
  {
   "cell_type": "code",
   "execution_count": 14,
   "id": "e6aa8f43-50d1-43e1-9a15-32fcac9f5c6d",
   "metadata": {},
   "outputs": [
    {
     "name": "stdout",
     "output_type": "stream",
     "text": [
      "{'Alice': (30, '123 Maple St'), 'Bob': (25, '456 Oak Ave'), 'Charlie': (35, '789 Pine Rd'), 'David': (40, '321 Birch Ln'), 'Eve': (28, '654 Cedar Dr')}\n"
     ]
    }
   ],
   "source": [
    "import csv #csv module to read the CSV file efficiently\n",
    "\n",
    "def csv_to_dict(filename):\n",
    "    result = { }\n",
    "    \n",
    "    with open (filename, mode ='r', newline = '') as file: #Opens the CSV file in read mode\n",
    "        reader = csv.reader(file) #Reading the CSV File\n",
    "        next(reader) # Skip the header row\n",
    "\n",
    "        for row in reader:\n",
    "            if len(row)< 3: #we check if it has at least three columns to avoid index errors\n",
    "                continue # Skip rows that don't have enough columns\n",
    "\n",
    "            name = row[0]\n",
    "            age = int(row[1]) # Convert age to integer\n",
    "            address = row[2]\n",
    "            result[name] = (age, address) #Dictionary with names as keys and (age, address) tuples as values\n",
    "\n",
    "    return result\n",
    "\n",
    "data = csv_to_dict(\"people.csv\")\n",
    "print(data)\n"
   ]
  },
  {
   "cell_type": "raw",
   "id": "ddbfb60a-be3d-4064-acc8-0046cba40a2d",
   "metadata": {},
   "source": [
    "2. You’re analyzing a CSV file that contains sales data with columns Date, Product, and Revenue. Write a function that calculates the total revenue for a specific product across all dates in the file."
   ]
  },
  {
   "cell_type": "code",
   "execution_count": 20,
   "id": "aff3041f-858d-443f-b038-643d51d32b05",
   "metadata": {},
   "outputs": [
    {
     "name": "stdout",
     "output_type": "stream",
     "text": [
      "1650.0\n"
     ]
    }
   ],
   "source": [
    "import csv\n",
    "\n",
    "def cal_total_rev(filename, product):\n",
    "    total = 0.0\n",
    "\n",
    "    with open(filename, 'r', newline='') as file:\n",
    "        reader = csv.DictReader(file) #Opens the CSV file and reads it using csv.DictReader\n",
    "\n",
    "        for row in reader:\n",
    "            if row['Product'] == product: #Iterates through each row, checking if the Product matches the given product_name\n",
    "                total += float(row['Revenue']) ## Convert revenue to float\n",
    "    return total #Total revenue as a float\n",
    "\n",
    "data = cal_total_rev(\"sales_data.csv\", \"Phone\") #Path to the CSV file.#Name of the product to calculate revenue for\n",
    "print(data)"
   ]
  },
  {
   "cell_type": "raw",
   "id": "c5b1ae9e-d976-41ca-a370-486c980b7004",
   "metadata": {},
   "source": [
    "3. You’re tasked with extracting hashtags from a string of text.\n",
    "Write a regular expression that matches words starting with the # symbol and only contains letters and number."
   ]
  },
  {
   "cell_type": "code",
   "execution_count": 23,
   "id": "64042eb3-e0fe-41aa-a77e-17b2c03e8e88",
   "metadata": {},
   "outputs": [
    {
     "name": "stdout",
     "output_type": "stream",
     "text": [
      "['#Python3', '#coding101', '#invalid', '#wrong']\n"
     ]
    }
   ],
   "source": [
    "import re\n",
    "\n",
    "def extract_hastags(text): #function\n",
    "    pattern = r'(?<!\\w)#[A-Za-z0-9]+'\n",
    "    # pattern = r'#\\w+' ## \\w+ matches [a-zA-Z0-9_], but we assume _ is not needed\n",
    "    \n",
    "    return re.findall(pattern, text) #re.findall to return all non-overlapping matches of the regex pattern in the input text\n",
    "\n",
    "text = \"Check out #Python3 and #coding101! Avoid #invalid-hashtag and #wrong@tag\" #Input string\n",
    "hashtags = extract_hastags(text)\n",
    "print(hashtags)    # List of hashtags"
   ]
  },
  {
   "cell_type": "raw",
   "id": "c0e8bcf8-94bb-4432-a512-22cd3f2ab0a0",
   "metadata": {},
   "source": [
    "4. You’re given an Excel sheet with employee details.\n",
    "Write a Python function that will find all employees who have a salary greater than 50,000 and write them into a new Excel file."
   ]
  },
  {
   "cell_type": "code",
   "execution_count": 7,
   "id": "a5f631c7-f5d0-4f6d-8a19-50876bb39b62",
   "metadata": {},
   "outputs": [],
   "source": [
    "import pandas as pd\n",
    "\n",
    "def high_salary_emp(input_file, output_file):\n",
    "\n",
    "    df = pd.read_excel(input_file, engine=\"openpyxl\") #Reading the Excel File\n",
    "    greter_salary_emp = df[df['Salary']>50000] #Filtering Employees\n",
    "    \n",
    "    greter_salary_emp.to_excel(output_file, index=False, engine=\"openpyxl\") #Writing to a New Excel File: to_excel\n",
    "    #index=False argument is used to prevent pandas from writing row indices to the Excel file\n",
    "\n",
    "\n",
    "high_salary_emp('employees.xlsx', 'greter_salary_emp.xlsx')\n"
   ]
  },
  {
   "cell_type": "code",
   "execution_count": 12,
   "id": "75195fa9-273f-4730-93a7-95be02f546eb",
   "metadata": {},
   "outputs": [],
   "source": [
    "import pandas as pd\n",
    "\n",
    "def high_salary_emp(input_file, output_file):\n",
    "    df = pd.read_excel(input_file, engine=\"openpyxl\")  # Use openpyxl to read .xlsx\n",
    "    \n",
    "    greter_salary_emp = df[df['Salary'] > 50000]  # Filter employees with salary > 50000\n",
    "    \n",
    "    with pd.ExcelWriter(output_file, engine=\"openpyxl\") as writer:  \n",
    "        greter_salary_emp.to_excel(writer, index=False)  # Ensure safe writing\n",
    "\n",
    "# Running the function\n",
    "high_salary_emp('employees.xlsx', 'greter_salary_emp.xlsx')\n",
    "# greter_salary_emp.to_csv(\"greter_salary_emp.csv\", index=False, encoding=\"utf-8\")"
   ]
  },
  {
   "cell_type": "raw",
   "id": "af3a44aa-d4fb-4b35-86dd-f3ded1f6e543",
   "metadata": {},
   "source": [
    "5. In a function that computes the square root of a number, you want to assert that the input is always non-negative.\n",
    "How would you use the assert keyword to enforce this?"
   ]
  },
  {
   "cell_type": "code",
   "execution_count": 19,
   "id": "dc712dcb-e23a-499b-98ca-99056e97381a",
   "metadata": {},
   "outputs": [
    {
     "name": "stdout",
     "output_type": "stream",
     "text": [
      "4.58257569495584\n"
     ]
    }
   ],
   "source": [
    "import math\n",
    "\n",
    "def sqrt(number):\n",
    "    assert number >= 0 #\"Input must be a non-negative number\"\n",
    "    # Assertion Check: The assert number >= 0 statement checks if the input number is non-negative. If number is less than zero, the assertion fails.\n",
    "    return math.sqrt(number) #return: The square root of the number\n",
    "\n",
    "print(sqrt(21))\n",
    "# print(sqrt(-25)) #Raises AssertionError: Input must be a non-negative number"
   ]
  },
  {
   "cell_type": "raw",
   "id": "30011cf2-7f28-4acf-ac38-941d6e913d9e",
   "metadata": {},
   "source": [
    "6. You are processing a file in Python and need to catch any potential errors like file not being found or an I/O error.\n",
    "How would you implement exception handling to ensure that the program doesn’t crash if the file is missing or inaccessible?"
   ]
  },
  {
   "cell_type": "code",
   "execution_count": null,
   "id": "514d2f46-cfaa-42d8-b390-eeef63a2adfb",
   "metadata": {},
   "outputs": [],
   "source": []
  }
 ],
 "metadata": {
  "kernelspec": {
   "display_name": "Python 3 (ipykernel)",
   "language": "python",
   "name": "python3"
  },
  "language_info": {
   "codemirror_mode": {
    "name": "ipython",
    "version": 3
   },
   "file_extension": ".py",
   "mimetype": "text/x-python",
   "name": "python",
   "nbconvert_exporter": "python",
   "pygments_lexer": "ipython3",
   "version": "3.12.4"
  }
 },
 "nbformat": 4,
 "nbformat_minor": 5
}
