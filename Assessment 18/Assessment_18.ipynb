{
 "cells": [
  {
   "cell_type": "raw",
   "id": "3d419370-1b55-4c29-9935-6ab87bff824a",
   "metadata": {},
   "source": [
    "1.You need to write a function that reads a large log file and extracts certain patterns from it, but the file might not always exist, or it might be corrupted. How would you approach this, ensuring that the program fails gracefully and provides relevant information to the user?"
   ]
  },
  {
   "cell_type": "code",
   "execution_count": 11,
   "id": "854790dc-6938-4ad9-9ee8-6c4bf48026c3",
   "metadata": {},
   "outputs": [
    {
     "name": "stdout",
     "output_type": "stream",
     "text": [
      "['ERROR: Failed to connect to database', 'ERROR: Invalid user input']\n"
     ]
    }
   ],
   "source": [
    "import re\n",
    "\n",
    "def extract_patterns(file_path, pattern): # Check if the file exists\n",
    "\n",
    "    try:\n",
    "        # Open the file and read it line by line\n",
    "        with open(file_path, 'r') as file:\n",
    "            matches = [line.strip() for line in file if re.search(pattern, line)] ## Search for the pattern in each line\n",
    "            return matches if matches else \"No matches found.\"\n",
    "    except FileNotFoundError:\n",
    "        return f\"Error: File '{file_path}' not found.\"\n",
    "    except Exception as e:\n",
    "        return f\"Error: Something went wrong. Details: {e}\"\n",
    "\n",
    "file_path = r'C:\\Users\\User\\Desktop\\Assessment\\Assessment 18/log.txt'\n",
    "pattern = r'ERROR:'  # Example pattern to match error lines\n",
    "result = extract_patterns(file_path, pattern)\n",
    "print(result)"
   ]
  },
  {
   "cell_type": "raw",
   "id": "a4ed5523-d371-470c-a902-bdeddea3d2f4",
   "metadata": {},
   "source": [
    "2. While dealing with a large CSV file, you're concerned about the possibility of incomplete reads due to a disk failure or network issue.\n",
    "How would you structure your file handling to make sure the application can handle partial reads and write failures gracefully?"
   ]
  },
  {
   "cell_type": "code",
   "execution_count": 28,
   "id": "24b396dc-b68a-449d-9925-39f0966e7fca",
   "metadata": {},
   "outputs": [
    {
     "name": "stdout",
     "output_type": "stream",
     "text": [
      "First line of chunk: Name,Age,Date,Amount,Category,City\n",
      "\n"
     ]
    }
   ],
   "source": [
    "def process_chunk(chunk):\n",
    "    # Example: Print the first line of the chunk\n",
    "    if chunk:\n",
    "        print(f\"First line of chunk: {chunk[0]}\")\n",
    "\n",
    "def write_checkpoint(chunk_count):\n",
    "    with open(\"checkpoint.txt\", \"w\") as f:\n",
    "        f.write(f\"Last processed chunk: {chunk_count}\")\n",
    "\n",
    "def process_csv_in_chunks(file_path, chunk_size=1000):\n",
    "    with open(file_path, 'r') as f:\n",
    "        chunk_count = 0\n",
    "        while True:\n",
    "            try:\n",
    "                chunk = []\n",
    "                for _ in range(chunk_size):\n",
    "                    line = f.readline()\n",
    "                    if not line:\n",
    "                        break\n",
    "                    chunk.append(line)\n",
    "\n",
    "                if not chunk:\n",
    "                    break  # End of file\n",
    "\n",
    "                # Process the chunk (e.g., data transformation, analysis)\n",
    "                process_chunk(chunk)\n",
    "\n",
    "                # Write checkpoint (e.g., update a log file)\n",
    "                write_checkpoint(chunk_count)\n",
    "\n",
    "                chunk_count += 1\n",
    "\n",
    "            except Exception as e:\n",
    "                print(f\"Error processing chunk {chunk_count}: {e}\")\n",
    "                # Handle the error (e.g., log, retry, skip chunk) \n",
    "\n",
    "if __name__ == \"__main__\":\n",
    "    process_csv_in_chunks(r\"C:\\Users\\User\\Desktop\\Assessment\\Assessment 18\\file.csv\")"
   ]
  },
  {
   "cell_type": "raw",
   "id": "b1f132c5-a10f-4cb3-a41c-ea35ed455e94",
   "metadata": {},
   "source": [
    "3.You’re working on an application where a user uploads a file containing financial data. However, there’s a chance the file might be corrupted or the format might not be as expected. How would you handle this situation to ensure your program doesn’t crash, and provide meaningful feedback to the user?"
   ]
  },
  {
   "cell_type": "code",
   "execution_count": 27,
   "id": "09286d42-af55-4c20-a204-7da8c841adbe",
   "metadata": {},
   "outputs": [
    {
     "name": "stdout",
     "output_type": "stream",
     "text": [
      "    Name  Age      Date  Amount  Category City\n",
      "0   john   24  7/4/2024  100.50       NaN    H\n",
      "1   jane   33  7/5/2024  130.50       NaN    G\n",
      "2  danny   45  7/6/2024   50.25       NaN    C\n",
      "3   hims   55  7/7/2024   70.25       NaN    A\n"
     ]
    }
   ],
   "source": [
    "import pandas as pd\n",
    "import os\n",
    "\n",
    "def process_financial_file(file_path, expected_format=\"csv\", max_size_mb=5):\n",
    "    \"\"\"Reads financial data safely, ensuring valid format and size.\"\"\"\n",
    "    \n",
    "    if not os.path.exists(file_path):\n",
    "        return \"Error: File not found.\"\n",
    "    \n",
    "    if os.path.getsize(file_path) > max_size_mb * 1024 * 1024:\n",
    "        return f\"Error: File too large (max {max_size_mb}MB).\"\n",
    "\n",
    "    try:\n",
    "        if expected_format == \"csv\":\n",
    "            df = pd.read_csv(file_path)\n",
    "        elif expected_format == \"excel\":\n",
    "            df = pd.read_excel(file_path)\n",
    "        elif expected_format == \"json\":\n",
    "            df = pd.read_json(file_path)\n",
    "        else:\n",
    "            return \"Error: Unsupported file format.\"\n",
    "\n",
    "        if not {\"Date\", \"Amount\", \"Category\"}.issubset(df.columns):\n",
    "            return \"Error: Missing required columns.\"\n",
    "\n",
    "        return df  # Successfully loaded data\n",
    "\n",
    "    except Exception as e:\n",
    "        return f\"Error: Could not read file ({e})\"\n",
    "\n",
    "# Example Usage\n",
    "result = process_financial_file(r\"C:\\Users\\User\\Desktop\\Assessment\\Assessment 18\\file.csv\")\n",
    "\n",
    "print(result if isinstance(result, pd.DataFrame) else result)  # Show data or error\n"
   ]
  },
  {
   "cell_type": "raw",
   "id": "ce9acebc-4ed4-43c9-b421-30898d394e62",
   "metadata": {},
   "source": [
    "4. Imagine you’re building a game in which players have a certain number of attempts to guess a hidden number. You need to loop through the attempts, but stop once the player guesses correctly or exhausts all attempts. How would you structure the loop to handle both success and failure scenarios?"
   ]
  },
  {
   "cell_type": "code",
   "execution_count": 2,
   "id": "11a67c09-faea-434b-91bb-232ed807894b",
   "metadata": {},
   "outputs": [
    {
     "name": "stdin",
     "output_type": "stream",
     "text": [
      "Guess 1/3:  34\n"
     ]
    },
    {
     "name": "stdout",
     "output_type": "stream",
     "text": [
      "Try again.\n"
     ]
    },
    {
     "name": "stdin",
     "output_type": "stream",
     "text": [
      "Guess 2/3:  5\n"
     ]
    },
    {
     "name": "stdout",
     "output_type": "stream",
     "text": [
      "You win!\n",
      "Congratulations!\n"
     ]
    }
   ],
   "source": [
    "def guess_number(secret_number, max_attempts): #function. Takes the secret_number and max_attempts as input.\n",
    "\n",
    "  for attempt in range(1, max_attempts + 1): #Uses a for loop to control the number of attempts.\n",
    "    guess = int(input(f\"Guess {attempt}/{max_attempts}: \")) #Gets the player's guess.\n",
    "    if guess == secret_number:\n",
    "      print(\"You win!\") #If correct, prints \"You win!\" and returns True.\n",
    "      return True \n",
    "    print(\"Try again.\") #If incorrect, prints \"Try again.\" and continues to the next attempt.\n",
    "  print(\"You lose!\") #If the loop finishes without a correct guess, it prints \"You lose!\" and returns False.\n",
    "  return False \n",
    "\n",
    "# Sets the secret_number and max_tries.\n",
    "secret_number = 5 \n",
    "max_tries = 3\n",
    "if guess_number(secret_number, max_tries): #Calls the guess_number function.\n",
    "  print(\"Congratulations!\") #Prints a winning or losing message based on the function's return value."
   ]
  },
  {
   "cell_type": "raw",
   "id": "6c92df99-b182-4c7b-93c8-518cab629230",
   "metadata": {},
   "source": [
    "5. You need to implement logging in a Python application, but you want the log messages to be flexible in terms of output locations (console, file, or database). How would you design a logging module that allows dynamic configuration based on user preference?"
   ]
  },
  {
   "cell_type": "code",
   "execution_count": 23,
   "id": "08e4227e-a271-4eac-92d5-1a735f2be7ea",
   "metadata": {},
   "outputs": [],
   "source": [
    "import logging\n",
    "\n",
    "def setup_logging(log_level='INFO', log_file=None): #setup_logging function. Takes log_level and log_file as optional arguments\n",
    "  #Uses logging.basicConfig to configure logging\n",
    "    logging.basicConfig(\n",
    "      level=log_level, #level: Sets the minimum logging level.\n",
    "      format='%(asctime)s - %(levelname)s - %(message)s', #format: Defines the format for log messages.\n",
    "      filename=log_file #filename: If provided, logs messages to the specified file.\n",
    "  )\n",
    "\n",
    "setup_logging(log_level='DEBUG', log_file='my_app.log') #Calls setup_logging with desired settings.\n",
    "\n",
    "#Uses logging.debug(), logging.info(), etc. to log messages.\n",
    "\n",
    "# Use the logger\n",
    "logging.debug(\"This is a debug message.\")\n",
    "logging.info(\"This is an info message.\")"
   ]
  },
  {
   "cell_type": "code",
   "execution_count": 21,
   "id": "d82fd326-5ec8-4fc3-9e91-100f353187d2",
   "metadata": {},
   "outputs": [
    {
     "name": "stderr",
     "output_type": "stream",
     "text": [
      "2025-01-29 19:07:55,708 - INFO - Application started.\n",
      "2025-01-29 19:07:55,708 - INFO - Application started.\n",
      "2025-01-29 19:07:55,708 - INFO - Application started.\n",
      "2025-01-29 19:07:55,708 - INFO - Application started.\n",
      "2025-01-29 19:07:55,708 - INFO - Application started.\n",
      "2025-01-29 19:07:55,708 - INFO - Application started.\n",
      "2025-01-29 19:07:55,725 - ERROR - An error occurred.\n",
      "2025-01-29 19:07:55,725 - ERROR - An error occurred.\n",
      "2025-01-29 19:07:55,725 - ERROR - An error occurred.\n",
      "2025-01-29 19:07:55,725 - ERROR - An error occurred.\n",
      "2025-01-29 19:07:55,725 - ERROR - An error occurred.\n",
      "2025-01-29 19:07:55,725 - ERROR - An error occurred.\n"
     ]
    }
   ],
   "source": [
    "import logging  #Use logging module\n",
    "import sqlite3\n",
    "\n",
    "def setup_logger(log_to_console=True, log_to_file=None, log_to_db=None): #Configures a logger with console, file, or database logging.\n",
    "    logger = logging.getLogger(\"AppLogger\")\n",
    "    logger.setLevel(logging.DEBUG)\n",
    "    formatter = logging.Formatter('%(asctime)s - %(levelname)s - %(message)s')\n",
    "\n",
    "    if log_to_console:\n",
    "        console_handler = logging.StreamHandler()\n",
    "        console_handler.setFormatter(formatter)\n",
    "        logger.addHandler(console_handler)\n",
    "\n",
    "    if log_to_file:\n",
    "        file_handler = logging.FileHandler(log_to_file)\n",
    "        file_handler.setFormatter(formatter)\n",
    "        logger.addHandler(file_handler)\n",
    "\n",
    "    if log_to_db:\n",
    "        setup_db(log_to_db)\n",
    "        logger.db_path = log_to_db  # Store DB path in logger for later use\n",
    "\n",
    "    return logger\n",
    "\n",
    "def setup_db(db_path): #Creates a logs table in the SQLite database if it doesn't exist.\n",
    "    conn = sqlite3.connect(db_path)\n",
    "    conn.execute('CREATE TABLE IF NOT EXISTS logs (timestamp TEXT, level TEXT, message TEXT)')\n",
    "    conn.commit()\n",
    "    conn.close()\n",
    "\n",
    "def log_to_database(logger, level, message): #Logs a message to the database if enabled.\n",
    "    if hasattr(logger, 'db_path'):\n",
    "        conn = sqlite3.connect(logger.db_path)\n",
    "        conn.execute('INSERT INTO logs VALUES (datetime(\"now\"), ?, ?)', (level.upper(), message))\n",
    "        conn.commit()\n",
    "        conn.close()\n",
    "\n",
    "def log_message(logger, level, message): #Logs a message to the selected outputs.\n",
    "    getattr(logger, level.lower())(message)  # Log to console/file\n",
    "    log_to_database(logger, level, message)  # Log to DB if enabled\n",
    "\n",
    "logger = setup_logger(log_to_console=True, log_to_file=\"my_app.log\", log_to_db=\"logs.db\")\n",
    "log_message(logger, \"info\", \"Application started.\")\n",
    "log_message(logger, \"error\", \"An error occurred.\")\n"
   ]
  },
  {
   "cell_type": "raw",
   "id": "827aeef4-4e74-4de8-80ca-34d59318eede",
   "metadata": {},
   "source": [
    "6. In your project, you need to extract all hashtags from a block of text, but some hashtags may have special characters or numbers.\n",
    "How would you write a regular expression that correctly matches all hashtags in the text, regardless of what follows the \"#\" symbol?"
   ]
  },
  {
   "cell_type": "code",
   "execution_count": 27,
   "id": "966ebfbb-7451-47a1-864f-75fab2aee695",
   "metadata": {},
   "outputs": [
    {
     "name": "stdout",
     "output_type": "stream",
     "text": [
      "['#test', '#special_characters_123', '#another_hashtag']\n"
     ]
    }
   ],
   "source": [
    "import re\n",
    "\n",
    "def extract_hashtags(text): #extract_hashtags function\n",
    "  hashtags = re.findall(r\"#\\w+\", text) \n",
    "    # r\"#\\w+\": This is the regular expression\n",
    "    #  # : Matches the literal \"#\" character.\n",
    "    # \\w+: Matches one or more word characters (letters, digits, and underscores).\n",
    "    # re.findall() finds all matches of the pattern in the text.\n",
    "  return hashtags #Returns a list of all the found hashtags.\n",
    "\n",
    "text = \"This is a #test with #special_characters_123 and #another_hashtag.\"\n",
    "hashtags = extract_hashtags(text)\n",
    "print(hashtags)"
   ]
  },
  {
   "cell_type": "code",
   "execution_count": null,
   "id": "0d455c20-3aaa-4272-8f0a-75f94de45892",
   "metadata": {},
   "outputs": [],
   "source": []
  }
 ],
 "metadata": {
  "kernelspec": {
   "display_name": "Python 3 (ipykernel)",
   "language": "python",
   "name": "python3"
  },
  "language_info": {
   "codemirror_mode": {
    "name": "ipython",
    "version": 3
   },
   "file_extension": ".py",
   "mimetype": "text/x-python",
   "name": "python",
   "nbconvert_exporter": "python",
   "pygments_lexer": "ipython3",
   "version": "3.12.4"
  }
 },
 "nbformat": 4,
 "nbformat_minor": 5
}
