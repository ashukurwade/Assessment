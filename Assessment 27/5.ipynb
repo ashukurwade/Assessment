{
 "cells": [
  {
   "cell_type": "code",
   "execution_count": 1,
   "id": "f6e3893f-98f8-4c68-9799-a91ec7fe1fd7",
   "metadata": {},
   "outputs": [],
   "source": [
    "import pandas as pd\n",
    "import numpy as np"
   ]
  },
  {
   "cell_type": "code",
   "execution_count": 2,
   "id": "cc7c5efd-1cb6-4299-bcac-6972c3746f9b",
   "metadata": {},
   "outputs": [],
   "source": [
    "from sklearn.model_selection import train_test_split\n",
    "from sklearn.linear_model import LinearRegression\n",
    "from sklearn.preprocessing import OneHotEncoder\n",
    "from sklearn.metrics import mean_absolute_error, mean_squared_error, r2_score"
   ]
  },
  {
   "cell_type": "code",
   "execution_count": 3,
   "id": "1b93b330-4d72-46ff-aa58-e64f64da0e42",
   "metadata": {},
   "outputs": [],
   "source": [
    "\n",
    "from sklearn.preprocessing import StandardScaler"
   ]
  },
  {
   "cell_type": "code",
   "execution_count": 7,
   "id": "6ff0eb14-9034-4b6d-99a6-1ec32bd79f03",
   "metadata": {},
   "outputs": [],
   "source": [
    "df = pd.read_csv(\"house_prices.csv\")"
   ]
  },
  {
   "cell_type": "code",
   "execution_count": 5,
   "id": "41964f1c-d532-4f25-81a9-913b51dff394",
   "metadata": {},
   "outputs": [
    {
     "name": "stdout",
     "output_type": "stream",
     "text": [
      "    location  bhk  sqft_area     price  age_of_property  nearby_schools\n",
      "0     Mumbai    2        900  12000000                5               1\n",
      "1      Delhi    3       1500  18000000               10               2\n",
      "2  Bangalore    2       1200   9500000                3               3\n",
      "3  Hyderabad    4       1800  22000000                8               1\n",
      "4    Chennai    3       1400  16000000                6               2\n",
      "location           0\n",
      "bhk                0\n",
      "sqft_area          0\n",
      "price              0\n",
      "age_of_property    0\n",
      "nearby_schools     0\n",
      "dtype: int64\n",
      "             bhk   sqft_area         price  age_of_property  nearby_schools\n",
      "count  10.000000    10.00000  1.000000e+01        10.000000       10.000000\n",
      "mean    2.800000  1320.00000  1.390000e+07         5.900000        2.000000\n",
      "std     0.788811   290.78438  4.587422e+06         2.601282        0.816497\n",
      "min     2.000000   900.00000  8.500000e+06         2.000000        1.000000\n",
      "25%     2.000000  1125.00000  1.025000e+07         4.250000        1.250000\n",
      "50%     3.000000  1300.00000  1.250000e+07         5.500000        2.000000\n",
      "75%     3.000000  1475.00000  1.750000e+07         7.750000        2.750000\n",
      "max     4.000000  1800.00000  2.200000e+07        10.000000        3.000000\n"
     ]
    }
   ],
   "source": [
    "# Load the dataset\n",
    "data = pd.read_csv('house_prices.csv')\n",
    "\n",
    "# Display the first few rows\n",
    "print(data.head())\n",
    "\n",
    "# Check for missing values\n",
    "print(data.isnull().sum())\n",
    "\n",
    "# Get basic statistics\n",
    "print(data.describe())"
   ]
  },
  {
   "cell_type": "code",
   "execution_count": 9,
   "id": "f7753140-c7ed-4a3a-80b8-cd02632e29a7",
   "metadata": {},
   "outputs": [],
   "source": [
    "# Drop rows with missing values\n",
    "data = data.dropna()\n",
    "\n",
    "# Or fill missing values with the mean\n",
    "# data = data.fillna(data.mean())"
   ]
  },
  {
   "cell_type": "code",
   "execution_count": 10,
   "id": "36cbf294-6a92-414c-8d11-9cab911c4be1",
   "metadata": {},
   "outputs": [],
   "source": [
    "# Fill missing values with median\n",
    "df.fillna(df.median(numeric_only=True), inplace=True)"
   ]
  },
  {
   "cell_type": "code",
   "execution_count": 11,
   "id": "56f4ef01-6d77-47d9-bcf3-6defc1471197",
   "metadata": {},
   "outputs": [],
   "source": [
    "# Select features and target\n",
    "X = df.drop(columns=['price'])  # Features\n",
    "y = df['price']  # Target variable"
   ]
  },
  {
   "cell_type": "code",
   "execution_count": null,
   "id": "2e4467c9-0018-4a3c-b12f-441414f94766",
   "metadata": {},
   "outputs": [],
   "source": [
    "# Separate features and target variable\n",
    "X = data.drop('price', axis=1)\n",
    "y = data['price']\n",
    "\n",
    "# Standardize the features\n",
    "scaler = StandardScaler()\n",
    "X_scaled = scaler.fit_transform(X)"
   ]
  },
  {
   "cell_type": "code",
   "execution_count": 14,
   "id": "9cc8a88a-9821-48e1-bd1a-b0e15f39c905",
   "metadata": {},
   "outputs": [],
   "source": [
    "# One-hot encode categorical features\n",
    "categorical_cols = X.select_dtypes(include=['object']).columns\n",
    "X = pd.get_dummies(X, columns=categorical_cols, drop_first=True) "
   ]
  },
  {
   "cell_type": "code",
   "execution_count": 15,
   "id": "9cf906ee-7f4a-4c30-a64e-d88d5873099a",
   "metadata": {},
   "outputs": [],
   "source": [
    "# One-hot encoding for categorical variables\n",
    "data = pd.get_dummies(data, drop_first=True)"
   ]
  },
  {
   "cell_type": "code",
   "execution_count": 16,
   "id": "1fd5bcee-7317-427b-95e5-d3a04a960073",
   "metadata": {},
   "outputs": [],
   "source": [
    "# Split data into train and test sets\n",
    "X_train, X_test, y_train, y_test = train_test_split(X, y, test_size=0.2, random_state=42)"
   ]
  },
  {
   "cell_type": "code",
   "execution_count": null,
   "id": "4df3fb64-4c15-4c1a-ae36-3050ea6049b6",
   "metadata": {},
   "outputs": [],
   "source": [
    "X_train, X_test, y_train, y_test = train_test_split(X_scaled, y, test_size=0.2, random_state=42)"
   ]
  },
  {
   "cell_type": "code",
   "execution_count": 18,
   "id": "e27b1d90-081f-4bae-babb-e717f1ddc4c0",
   "metadata": {},
   "outputs": [],
   "source": [
    "# Initialize the Linear Regression model\n",
    "model = LinearRegression()\n",
    "\n",
    "# Train the model\n",
    "model.fit(X_train, y_train)\n",
    "\n",
    "# Make predictions\n",
    "y_pred = model.predict(X_test)"
   ]
  },
  {
   "cell_type": "code",
   "execution_count": 19,
   "id": "7fbe5ad3-9c8a-4565-bd3e-918b323f7157",
   "metadata": {},
   "outputs": [
    {
     "name": "stdout",
     "output_type": "stream",
     "text": [
      "Mean Squared Error: 3268603732560.87\n",
      "R-squared: 0.8551311365069975\n"
     ]
    }
   ],
   "source": [
    "# Calculate Mean Squared Error\n",
    "mse = mean_squared_error(y_test, y_pred)\n",
    "print(f'Mean Squared Error: {mse}')\n",
    "\n",
    "# Calculate R-squared\n",
    "r2 = r2_score(y_test, y_pred)\n",
    "print(f'R-squared: {r2}')"
   ]
  },
  {
   "cell_type": "code",
   "execution_count": 20,
   "id": "3be42d47-a3fa-4b4a-aa00-b4cfb6cf5d38",
   "metadata": {},
   "outputs": [
    {
     "name": "stdout",
     "output_type": "stream",
     "text": [
      "MAE: 1765804.3150109006\n",
      "MSE: 3268603732560.87\n",
      "R² Score: 0.8551311365069975\n"
     ]
    }
   ],
   "source": [
    "# Evaluate performance\n",
    "print(\"MAE:\", mean_absolute_error(y_test, y_pred))\n",
    "print(\"MSE:\", mean_squared_error(y_test, y_pred))\n",
    "print(\"R² Score:\", r2_score(y_test, y_pred))"
   ]
  },
  {
   "cell_type": "code",
   "execution_count": 21,
   "id": "e3ba9df0-efc5-47a5-b542-72db2556d024",
   "metadata": {},
   "outputs": [
    {
     "name": "stdout",
     "output_type": "stream",
     "text": [
      "               Feature    Importance\n",
      "7   location_Hyderabad  2.279269e+06\n",
      "5     location_Chennai  1.718198e+06\n",
      "11     location_Mumbai  1.133046e+06\n",
      "9     location_Kolkata  3.666029e+05\n",
      "0                  bhk  1.711955e+05\n",
      "2      age_of_property  1.687339e+05\n",
      "1            sqft_area  8.894650e+03\n",
      "8      location_Jaipur  0.000000e+00\n",
      "6       location_Delhi -4.656613e-10\n",
      "10    location_Lucknow -4.064644e+05\n",
      "4   location_Bangalore -9.530687e+05\n",
      "12       location_Pune -1.104744e+06\n",
      "3       nearby_schools -1.372406e+06\n"
     ]
    }
   ],
   "source": [
    "# Get coefficients\n",
    "coefficients = model.coef_\n",
    "\n",
    "# Pair feature names with their coefficients\n",
    "feature_importance = pd.DataFrame({'Feature': X.columns, 'Importance': coefficients})\n",
    "print(feature_importance.sort_values(by='Importance', ascending=False))"
   ]
  },
  {
   "cell_type": "code",
   "execution_count": null,
   "id": "2dbdfa6e-329e-46c2-84ab-20eb01b6dd4c",
   "metadata": {},
   "outputs": [],
   "source": []
  }
 ],
 "metadata": {
  "kernelspec": {
   "display_name": "Python 3 (ipykernel)",
   "language": "python",
   "name": "python3"
  },
  "language_info": {
   "codemirror_mode": {
    "name": "ipython",
    "version": 3
   },
   "file_extension": ".py",
   "mimetype": "text/x-python",
   "name": "python",
   "nbconvert_exporter": "python",
   "pygments_lexer": "ipython3",
   "version": "3.12.4"
  }
 },
 "nbformat": 4,
 "nbformat_minor": 5
}
