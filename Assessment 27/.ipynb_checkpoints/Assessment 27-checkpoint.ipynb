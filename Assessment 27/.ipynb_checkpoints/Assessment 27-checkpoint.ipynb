{
 "cells": [
  {
   "cell_type": "code",
   "execution_count": 31,
   "id": "83f13d3f-3335-4d55-b650-e32e123513b5",
   "metadata": {},
   "outputs": [],
   "source": [
    "# 1. Imagine you are building a browser's back-and-forward navigation system.\n",
    "# How would you use a stack to handle the back operation and a queue to manage the forward operation?\n",
    "# Explain the concept and code approach for this solution.\n",
    "\n",
    "from collections import deque\n",
    "\n",
    "class Browser:\n",
    "    def __init__(self):\n",
    "        self.back_stack = [] # Stack for back navigation\n",
    "        self.forward_queue = deque() # Queue for forward navigation\n",
    "        self.current_page = None\n",
    "        \n",
    "    def navigate(self, new_page):\n",
    "        # When navigating to a new page, add current to back stack and reset forward queue\n",
    "        if self.current_page is not None:\n",
    "            self.back_stack.append(self.current_page)\n",
    "\n",
    "        self.current_page = new_page\n",
    "        self.forward_queue.clear() # Clear forward history on new navigation\n",
    "\n",
    "    def back(self):\n",
    "        if self.back_stack:\n",
    "            # Move current page to forward queue and pop from back stack\n",
    "            self.forward_queue.append(self.current_page)\n",
    "            self.current_page = self.back_stack.pop()\n",
    "\n",
    "    def forward(self):\n",
    "        if self.forward_queue:\n",
    "            # Move current page to back stack and dequeue from forward queue\n",
    "            self.back_stack.append(self.current_page)\n",
    "            self.current_page = self.forward_queue.popleft()\n",
    "\n"
   ]
  },
  {
   "cell_type": "code",
   "execution_count": 32,
   "id": "7474f459-2b89-4344-b75f-87eef9a6dd88",
   "metadata": {},
   "outputs": [
    {
     "name": "stdout",
     "output_type": "stream",
     "text": [
      "Current Page: page3.com\n",
      "After going back, Current Page: page2.com\n",
      "After going forward, Current Page: page3.com\n",
      "After navigating to a new page, Current Page: page4.com\n",
      "After trying to go forward, Current Page: page4.com\n"
     ]
    }
   ],
   "source": [
    "# Create a Browser instance\n",
    "browser = Browser()\n",
    "\n",
    "# Navigate to some pages\n",
    "browser.navigate('page1.com')\n",
    "browser.navigate('page2.com')\n",
    "browser.navigate('page3.com')\n",
    "\n",
    "print(f\"Current Page: {browser.current_page}\")  # Output: page3.com\n",
    "\n",
    "# Go back to the previous page\n",
    "browser.back()\n",
    "print(f\"After going back, Current Page: {browser.current_page}\")  # Output: page2.com\n",
    "\n",
    "# Go forward to the next page\n",
    "browser.forward()\n",
    "print(f\"After going forward, Current Page: {browser.current_page}\")  # Output: page3.com\n",
    "\n",
    "# Navigate to a new page\n",
    "browser.navigate('page4.com')\n",
    "print(f\"After navigating to a new page, Current Page: {browser.current_page}\")  # Output: page4.com\n",
    "\n",
    "# Try to go forward (shouldn't change the page because forward history is cleared)\n",
    "browser.forward()\n",
    "print(f\"After trying to go forward, Current Page: {browser.current_page}\")  # Output: page4.com\n"
   ]
  },
  {
   "cell_type": "code",
   "execution_count": 33,
   "id": "9a909219-f6c9-48c0-8962-0f31f98bcfc4",
   "metadata": {},
   "outputs": [
    {
     "name": "stdout",
     "output_type": "stream",
     "text": [
      "['Log 2', 'Log 3', 'Log 4', 'Log 5', 'Log 6']\n"
     ]
    }
   ],
   "source": [
    "# 2. Consider a real-time logging system that writes logs in an order but only retains the most recent N logs. What\n",
    "# data structure would you use to ensure efficient handling of this requirement? Explain how a queue or\n",
    "# stack can be applied in this scenario.\n",
    "\n",
    "from collections import deque\n",
    "\n",
    "class LogSystem:\n",
    "    def __init__(self, max_logs):\n",
    "        self.max_logs = max_logs\n",
    "        self.logs = deque(maxlen=max_logs) # Circular queue with fixed size\n",
    "\n",
    "    def add_log(self, log):\n",
    "        # Add a new log; if the queue is full, the oldest log is automatically removed\n",
    "        self.logs.append(log)\n",
    "\n",
    "    def get_recent_logs(self):\n",
    "        # Return the most recent N logs in the order they were added\n",
    "        return list(self.logs)\n",
    "\n",
    "logging_system = LogSystem(max_logs=5)\n",
    "logging_system.add_log(\"Log 1\")\n",
    "logging_system.add_log(\"Log 2\")\n",
    "logging_system.add_log(\"Log 3\")\n",
    "logging_system.add_log(\"Log 4\")\n",
    "logging_system.add_log(\"Log 5\")\n",
    "logging_system.add_log(\"Log 6\") # Overwrites \"Log 1\"\n",
    "\n",
    "print(logging_system.get_recent_logs())"
   ]
  },
  {
   "cell_type": "code",
   "execution_count": null,
   "id": "f1ee3dd3-cd10-4e52-a03f-8e56fcaaec97",
   "metadata": {},
   "outputs": [],
   "source": [
    "# 3. In a classification problem, you are using scikit-learn to train a model with a large dataset.\n",
    "# How do you assess the performance of your classifier using cross-validation,\n",
    "# and what metrics would you report to ensure it’s a reliable model?\n",
    "\n",
    "from sklearn.model_selection import cross_val_score, StratifiedKFold\n",
    "from sklearn.ensemble import RandomForestClassifier\n",
    "\n",
    "model = RandomForestClassifier(random_state=42) # Define the model\n",
    "\n",
    "cv = StratifiedKFold(n_splits=5, shuffle=True, random_state=42) # Define the cross-validation strategy\n",
    "\n",
    "scores = cross_val_score(model, X, y, cv=cv, scoring=\"accuracy\") # Perform cross-validation\n",
    "\n",
    "print(f\"Cross-Validation Score: {scores}\")\n",
    "print(f\"Mean Accuracy: {scores.mean():.4f} + {scores.std():.4f}\")"
   ]
  },
  {
   "cell_type": "code",
   "execution_count": null,
   "id": "123d970d-2f9e-4c3c-8786-b22019b119bc",
   "metadata": {},
   "outputs": [],
   "source": [
    "# from sklearn.model_selection import cross_validate, StratifiedKFold\n",
    "# from sklearn.ensemble import RandomForestClassifier\n",
    "# from sklearn.metrics import make_scorer, accuracy_score, precision_score, recall_score, f1_score, roc_auc_score\n",
    "\n",
    "# # Define the model\n",
    "# model = RandomForestClassifier(random_state=42)\n",
    "\n",
    "# # Define the cross-validation strategy\n",
    "# cv = StratifiedKFold(n_splits=5, shuffle=True, random_state=42)\n",
    "\n",
    "# # Define scoring metrics\n",
    "# scoring = {\n",
    "#     \"accuracy\": make_scorer(accuracy_score),\n",
    "#     \"precision\": make_scorer(precision_score, average=\"weighted\"),\n",
    "#     \"recall\": make_scorer(recall_score, average=\"weighted\"),\n",
    "#     \"f1\": make_scorer(f1_score, average=\"weighted\"),\n",
    "#     \"roc_auc\": make_scorer(roc_auc_score, multi_class=\"ovo\", needs_proba=True)\n",
    "# }\n",
    "\n",
    "# # Perform cross-validation\n",
    "# results = cross_validate(model, X, y, cv=cv, scoring=scoring)\n",
    "\n",
    "# # Print results\n",
    "# print(f\"Accuracy: {results['test_accuracy'].mean():.4f} ± {results['test_accuracy'].std():.4f}\")\n",
    "# print(f\"Precision: {results['test_precision'].mean():.4f} ± {results['test_precision'].std():.4f}\")\n",
    "# print(f\"Recall: {results['test_recall'].mean():.4f} ± {results['test_recall'].std():.4f}\")\n",
    "# print(f\"F1-Score: {results['test_f1'].mean():.4f} ± {results['test_f1'].std():.4f}\")\n",
    "# print(f\"ROC-AUC: {results['test_roc_auc'].mean():.4f} ± {results['test_roc_auc'].std():.4f}\")"
   ]
  },
  {
   "cell_type": "code",
   "execution_count": 24,
   "id": "967787a5-0e62-46f8-b8e8-55d8f7e73b56",
   "metadata": {},
   "outputs": [],
   "source": [
    "# 4. You are using the TensorFlow library to build a deep learning model.\n",
    "# How do you handle overfitting in neural networks using regularization methods such as dropout or\n",
    "# L2 regularization in TensorFlow? Illustrate with a code example.\n",
    "\n"
   ]
  },
  {
   "cell_type": "code",
   "execution_count": 23,
   "id": "439c2941-8e50-4be9-a950-1480d4863ef6",
   "metadata": {},
   "outputs": [],
   "source": [
    "# 5. You are tasked with creating a machine learning model to predict house prices.\n",
    "# How would you use the scikit- learn library to implement a linear regression model?\n",
    "# What preprocessing steps should be taken to ensure the data is ready for modelling?\n",
    "\n"
   ]
  }
 ],
 "metadata": {
  "kernelspec": {
   "display_name": "Python 3 (ipykernel)",
   "language": "python",
   "name": "python3"
  },
  "language_info": {
   "codemirror_mode": {
    "name": "ipython",
    "version": 3
   },
   "file_extension": ".py",
   "mimetype": "text/x-python",
   "name": "python",
   "nbconvert_exporter": "python",
   "pygments_lexer": "ipython3",
   "version": "3.12.4"
  }
 },
 "nbformat": 4,
 "nbformat_minor": 5
}
