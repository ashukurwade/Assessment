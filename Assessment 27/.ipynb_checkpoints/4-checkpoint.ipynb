{
 "cells": [
  {
   "cell_type": "code",
   "execution_count": null,
   "id": "e074b334-ae3a-4ad0-8949-84dd7a74ce6b",
   "metadata": {},
   "outputs": [],
   "source": [
    "import tensorflow as tf\n",
    "from tensorflow import keras\n",
    "from tensorflow.keras import layers, models, regularizers"
   ]
  },
  {
   "cell_type": "code",
   "execution_count": null,
   "id": "3ecfb275-4601-47c7-939d-c3ce6f8cfee1",
   "metadata": {},
   "outputs": [],
   "source": [
    "# Define the model\n",
    "model = models.Sequential([\n",
    "    # Input layer\n",
    "    layers.Input(shape=(784,)),  # Example input shape for MNIST dataset\n",
    "\n",
    "    # Hidden layers with L2 regularization\n",
    "    layers.Dense(128, activation='relu', kernel_regularizer=regularizers.l2(0.01)),\n",
    "    layers.Dropout(0.5),  # Dropout layer with 50% dropout rate\n",
    "\n",
    "    layers.Dense(64, activation='relu', kernel_regularizer=regularizers.l2(0.01)),\n",
    "    layers.Dropout(0.5),  # Dropout layer with 50% dropout rate\n",
    "\n",
    "    # Output layer\n",
    "    layers.Dense(10, activation='softmax')  # Example output layer for 10 classes\n",
    "])"
   ]
  },
  {
   "cell_type": "code",
   "execution_count": null,
   "id": "64bedf68-24a2-43ef-9f08-26defd551da2",
   "metadata": {},
   "outputs": [],
   "source": [
    "# Load dataset (MNIST example)\n",
    "(x_train, y_train), (x_test, y_test) = keras.datasets.mnist.load_data()\n",
    "x_train, x_test = x_train / 255.0, x_test / 255.0  # Normalize data"
   ]
  },
  {
   "cell_type": "code",
   "execution_count": null,
   "id": "a4b9aad4-2c4a-4021-9d5b-ee3cf5b61b1f",
   "metadata": {},
   "outputs": [],
   "source": [
    "# Define a neural network with Dropout and L2 Regularization\n",
    "model = keras.Sequential([\n",
    "    layers.Flatten(input_shape=(28, 28)),  # Convert 28x28 image to 1D\n",
    "    layers.Dense(128, activation='relu', kernel_regularizer=keras.regularizers.l2(0.01)),  # L2 Regularization\n",
    "    layers.Dropout(0.5),  # Dropout layer (50% neurons turned off)\n",
    "    layers.Dense(64, activation='relu', kernel_regularizer=keras.regularizers.l2(0.01)),  \n",
    "    layers.Dropout(0.3),\n",
    "    layers.Dense(10, activation='softmax')  # Output layer\n",
    "])"
   ]
  },
  {
   "cell_type": "code",
   "execution_count": null,
   "id": "169f597a-cd59-455d-974c-8feef737665b",
   "metadata": {},
   "outputs": [],
   "source": [
    "# Compile the model\n",
    "model.compile(optimizer='adam',\n",
    "              loss='sparse_categorical_crossentropy',  # Example loss for classification\n",
    "              metrics=['accuracy'])"
   ]
  },
  {
   "cell_type": "code",
   "execution_count": null,
   "id": "ae7c6b73-bf9d-4336-a3c9-6c993368ee48",
   "metadata": {},
   "outputs": [],
   "source": [
    "# Summary of the model\n",
    "model.summary()"
   ]
  },
  {
   "cell_type": "code",
   "execution_count": null,
   "id": "f33c4900-d822-4c5d-8ea4-46a51b9d4b4b",
   "metadata": {},
   "outputs": [],
   "source": [
    "# Train the model\n",
    "# Example: model.fit(X_train, y_train, epochs=10, validation_data=(X_val, y_val))\n",
    "\n",
    "\n",
    "# Train the model\n",
    "model.fit(x_train, y_train, epochs=10, validation_data=(x_test, y_test))"
   ]
  },
  {
   "cell_type": "code",
   "execution_count": null,
   "id": "2e3b24ac-0828-490d-9433-a630f1c77302",
   "metadata": {},
   "outputs": [],
   "source": [
    "# Evaluate on test data\n",
    "test_loss, test_acc = model.evaluate(x_test, y_test)\n",
    "print(f\"Test Accuracy: {test_acc:.4f}\")\n"
   ]
  },
  {
   "cell_type": "code",
   "execution_count": null,
   "id": "b061254e-108d-4850-a405-7e3fdb7bc502",
   "metadata": {},
   "outputs": [],
   "source": [
    "# Define early stopping callback\n",
    "early_stopping = tf.keras.callbacks.EarlyStopping(\n",
    "    monitor='val_loss', patience=5, restore_best_weights=True\n",
    ")\n",
    "\n",
    "# Train the model with early stopping\n",
    "history = model.fit(\n",
    "    X_train, y_train,\n",
    "    epochs=50,\n",
    "    validation_data=(X_val, y_val),\n",
    "    callbacks=[early_stopping]\n",
    ")"
   ]
  }
 ],
 "metadata": {
  "kernelspec": {
   "display_name": "Python 3 (ipykernel)",
   "language": "python",
   "name": "python3"
  },
  "language_info": {
   "codemirror_mode": {
    "name": "ipython",
    "version": 3
   },
   "file_extension": ".py",
   "mimetype": "text/x-python",
   "name": "python",
   "nbconvert_exporter": "python",
   "pygments_lexer": "ipython3",
   "version": "3.12.4"
  }
 },
 "nbformat": 4,
 "nbformat_minor": 5
}
