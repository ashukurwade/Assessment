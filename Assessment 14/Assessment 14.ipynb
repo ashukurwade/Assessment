{
 "cells": [
  {
   "cell_type": "code",
   "execution_count": null,
   "id": "b12e4644-299d-4d72-b9e1-6752b25491ac",
   "metadata": {},
   "outputs": [],
   "source": [
    "# 1. Use the collections module to create a program that takes a string input and returns a list of tuples\n",
    "# representing the frequency of each character in the string, sorted in descending order by frequency.\n",
    "\n"
   ]
  }
 ],
 "metadata": {
  "kernelspec": {
   "display_name": "Python 3 (ipykernel)",
   "language": "python",
   "name": "python3"
  },
  "language_info": {
   "codemirror_mode": {
    "name": "ipython",
    "version": 3
   },
   "file_extension": ".py",
   "mimetype": "text/x-python",
   "name": "python",
   "nbconvert_exporter": "python",
   "pygments_lexer": "ipython3",
   "version": "3.12.4"
  }
 },
 "nbformat": 4,
 "nbformat_minor": 5
}
