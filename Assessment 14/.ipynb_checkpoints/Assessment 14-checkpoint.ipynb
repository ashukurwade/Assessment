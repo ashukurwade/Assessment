{
 "cells": [
  {
   "cell_type": "code",
   "execution_count": 6,
   "id": "b12e4644-299d-4d72-b9e1-6752b25491ac",
   "metadata": {},
   "outputs": [
    {
     "name": "stdout",
     "output_type": "stream",
     "text": [
      "[('l', 3), ('o', 2), ('h', 1), ('e', 1), (' ', 1), ('w', 1), ('r', 1), ('d', 1)]\n"
     ]
    }
   ],
   "source": [
    "# 1. Use the collections module to create a program that takes a string input and returns a list of tuples\n",
    "# representing the frequency of each character in the string, sorted in descending order by frequency.\n",
    "\n",
    "from collections import Counter\n",
    "\n",
    "def char_frequency(s: str):\n",
    "    freq = Counter(s)\n",
    "    return sorted(freq.items(), key=lambda x: x[1], reverse=True)\n",
    "\n",
    "print(char_frequency(\"hello world\"))"
   ]
  },
  {
   "cell_type": "code",
   "execution_count": 7,
   "id": "182674f7-eb4f-45bd-babd-779f7b0b4e39",
   "metadata": {},
   "outputs": [
    {
     "name": "stdout",
     "output_type": "stream",
     "text": [
      "120\n"
     ]
    }
   ],
   "source": [
    "# 2. You are writing a program to calculate the factorial of a number recursively.\n",
    "# However, you want to optimize it using memoization to avoid redundant calculations.\n",
    "# Which Python module or technique would you use to implement this, and how?\n",
    "\n",
    "from functools import lru_cache\n",
    "\n",
    "@lru_cache(None)\n",
    "def factorial(n: int) -> int:\n",
    "    if n <= 1:\n",
    "        return 1\n",
    "    return n * factorial(n - 1)\n",
    "\n",
    "print(factorial(5))\n"
   ]
  },
  {
   "cell_type": "code",
   "execution_count": 8,
   "id": "c5aa51d2-905d-4a91-b9d0-1997cd687786",
   "metadata": {},
   "outputs": [
    {
     "name": "stdout",
     "output_type": "stream",
     "text": [
      "6\n"
     ]
    }
   ],
   "source": [
    "# 3. Write a function that takes two numbers and returns their greatest common divisor (GCD) without using\n",
    "# Python’s built-in GCD function. Your solution should use the Euclidean algorithm.\n",
    "\n",
    "def gcd(a: int, b: int) -> int:\n",
    "    while b:\n",
    "        a, b = b, a % b\n",
    "    return a\n",
    "\n",
    "print(gcd(48, 18))  # Output: 6\n"
   ]
  },
  {
   "cell_type": "code",
   "execution_count": 9,
   "id": "ac1f7536-2c46-4fd1-a8b5-348c47076516",
   "metadata": {},
   "outputs": [
    {
     "name": "stdout",
     "output_type": "stream",
     "text": [
      "[1, 3, 16]\n"
     ]
    }
   ],
   "source": [
    "# 4. Write a function that accepts a list of numbers and returns a new list where each number is raised to the\n",
    "# power of its index (e.g., nums = [2, 3, 4] → [2^0, 3^1, 4^2] → [1, 3, 16]).\n",
    "# Make sure the function handles edge cases, like empty lists.\n",
    "\n",
    "def power_by_index(nums):\n",
    "    return [num ** i for i, num in enumerate(nums)]\n",
    "\n",
    "print(power_by_index([2, 3, 4]))  # Output: [1, 3, 16]\n"
   ]
  },
  {
   "cell_type": "code",
   "execution_count": 10,
   "id": "bcd27003-611a-4fb9-a989-d4b5e503692d",
   "metadata": {},
   "outputs": [
    {
     "name": "stdout",
     "output_type": "stream",
     "text": [
      "(63, 25)\n"
     ]
    }
   ],
   "source": [
    "# 5. Create a function that accepts a list of integers and returns a tuple:\n",
    "# the first element should be the maximum product of any two numbers in the list,\n",
    "# and the second element should be the sum of all numbers less than the maximum product.\n",
    "\n",
    "def max_product_and_sum(nums):\n",
    "    if len(nums) < 2:\n",
    "        return (None, None)\n",
    "\n",
    "    nums.sort()\n",
    "    max_product = nums[-1] * nums[-2]\n",
    "    sum_smaller = sum(n for n in nums if n < max_product)\n",
    "\n",
    "    return (max_product, sum_smaller)\n",
    "\n",
    "print(max_product_and_sum([3, 5, 1, 7, 9]))  # Output: (63, 16)\n"
   ]
  },
  {
   "cell_type": "code",
   "execution_count": null,
   "id": "873ff640-ca19-43a1-b159-e278c830835e",
   "metadata": {},
   "outputs": [],
   "source": []
  }
 ],
 "metadata": {
  "kernelspec": {
   "display_name": "Python 3 (ipykernel)",
   "language": "python",
   "name": "python3"
  },
  "language_info": {
   "codemirror_mode": {
    "name": "ipython",
    "version": 3
   },
   "file_extension": ".py",
   "mimetype": "text/x-python",
   "name": "python",
   "nbconvert_exporter": "python",
   "pygments_lexer": "ipython3",
   "version": "3.12.4"
  }
 },
 "nbformat": 4,
 "nbformat_minor": 5
}
