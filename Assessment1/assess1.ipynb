{
 "cells": [
  {
   "cell_type": "code",
   "execution_count": 1,
   "id": "27e608e3-1c0e-4677-916e-71b51d458a6a",
   "metadata": {},
   "outputs": [
    {
     "name": "stdout",
     "output_type": "stream",
     "text": [
      "22.82\n"
     ]
    }
   ],
   "source": [
    "# 1.You are creating a program that tracks temperatures.\n",
    "# The temperature is recorded as a float value, but sometimes the temperatures need to be rounded to 2 decimal places.\n",
    "# Which Python method would you use to ensure this?\n",
    "\n",
    "# To round a value to decimal places in Python, we can use the round() function.\n",
    "# This function allows you to round a float to the specified number of decimal places.\n",
    "\n",
    "temp = 22.8234\n",
    "rounded_temp = round(temp, 2)\n",
    "print(rounded_temp)"
   ]
  },
  {
   "cell_type": "code",
   "execution_count": 4,
   "id": "c0cc4a91-acc8-4e4c-b5cc-8df2b0b9f185",
   "metadata": {},
   "outputs": [
    {
     "name": "stdout",
     "output_type": "stream",
     "text": [
      "The average score is: 86.6\n"
     ]
    }
   ],
   "source": [
    "# 2.You're calculating the average score of a class by summing all scores and dividing by the number of students.\n",
    "# What operator would you use to calculate the sum of scores and the division to find the average?\n",
    "\n",
    "# for sum we use '+' operator or call the sum() function and for division we use '/' operator \n",
    "\n",
    "# List of scores\n",
    "scores = [76, 86, 92, 95, 84]\n",
    "\n",
    "# Calculate the total of scores\n",
    "total_score = sum(scores)  # Ensure 'sum' is not redefined\n",
    "\n",
    "# Calculate the total of students\n",
    "total_students = len(scores)\n",
    "\n",
    "# Calculate the average\n",
    "avg_score = total_score / total_students\n",
    "\n",
    "print(\"The average score is:\", avg_score)"
   ]
  },
  {
   "cell_type": "code",
   "execution_count": 5,
   "id": "4ce47632-34b9-4290-8aca-117449811a5a",
   "metadata": {},
   "outputs": [
    {
     "name": "stdout",
     "output_type": "stream",
     "text": [
      "'Revolution 2020', book is not in library.\n"
     ]
    }
   ],
   "source": [
    "# 3. You're working on a project that involves collecting information about books in a library.\n",
    "# You decide to store the book titles as a list, but when you try to find out if a specific title exists, you notice that your search returns incorrect results.\n",
    "# Can you think of any methods or data structures that could help you efficiently search for the titles?\n",
    "\n",
    "# for this we can use set for faster efficiency of searching\n",
    "\n",
    "# set\n",
    "books_titles = {\"Five Point Someone\", \"2 States\",\"Half Girlfriend\", \"What Young India Wants\", \"One Arranged Murder\", \"The Girl in Room 105\", \"One Indian Girl\" }\n",
    "\n",
    "# to_find_titles = \"2 States\"\n",
    "to_find_titles = \"Revolution 2020\"\n",
    "\n",
    "if to_find_titles in books_titles:\n",
    "    print(f\"'{to_find_titles}', book is in library.\")\n",
    "else:\n",
    "    print(f\"'{to_find_titles}', book is not in library.\")\n"
   ]
  },
  {
   "cell_type": "code",
   "execution_count": 6,
   "id": "5db30cce-eb25-47eb-a668-f35421a5e4d8",
   "metadata": {},
   "outputs": [
    {
     "name": "stdout",
     "output_type": "stream",
     "text": [
      "'whetstone', is present in a string.\n"
     ]
    }
   ],
   "source": [
    "# 4. Your program needs to check if the input string contains a specific word.\n",
    "# What operator would you use to check for the presence of a substring within a string?\n",
    "\n",
    "# In operator is used here to find the string inside a string\n",
    "\n",
    "string = \"A mind needs books as a sword needs a whetstone, if it is to keep its edge\"\n",
    "\n",
    "sub_string = \"whetstone\"\n",
    "# sub_string = \"Armour \"\n",
    "\n",
    "if sub_string in string:\n",
    "    print(f\"'{sub_string}', is present in a string.\")\n",
    "else:\n",
    "    print(f\"'{sub_string}', is not present in a string.\")\n"
   ]
  },
  {
   "cell_type": "code",
   "execution_count": 7,
   "id": "4ced9c78-dc1a-4917-ae37-7836ddb558f2",
   "metadata": {},
   "outputs": [
    {
     "name": "stdout",
     "output_type": "stream",
     "text": [
      "Original ages [92, 85, 55, 50, 25, 22]\n",
      "Updated ages [82, 75, 45, 40, 15, 12]\n"
     ]
    }
   ],
   "source": [
    "# 5. You are storing a list of ages in a variable.\n",
    "# You notice that when you try to perform some operations, like adding 5 to each age, your list gets updated in a way you didn’t expect.\n",
    "# How would you ensure that changes made to the list do not impact the original data?\n",
    "\n",
    "# here copy() method is used to copy the list\n",
    "\n",
    "ages = [92,85, 55, 50, 25, 22]\n",
    "\n",
    "copy_ages = ages.copy()\n",
    "\n",
    "copy_ages = [age - 10 for age in copy_ages] \n",
    "\n",
    "print(\"Original ages\", ages)\n",
    "print(\"Updated ages\", copy_ages)"
   ]
  },
  {
   "cell_type": "code",
   "execution_count": 8,
   "id": "80202ca7-f8c0-4a1f-9bb7-7b381eef0d8d",
   "metadata": {},
   "outputs": [
    {
     "name": "stdout",
     "output_type": "stream",
     "text": [
      "Number is divisible\n"
     ]
    }
   ],
   "source": [
    "# 6. If you were designing a program that checks if a number is divisible by both 5 and 3, which operator(s) would you use to test this condition?\n",
    "\n",
    "# % Modulas operator is used to divide the number.\n",
    "\n",
    "num = 45\n",
    "\n",
    "if num % 5 == 0 and num % 3 == 0:\n",
    "    print('Number is divisible')\n",
    "else:\n",
    "    print(\"Number is not divisible\")"
   ]
  },
  {
   "cell_type": "code",
   "execution_count": 9,
   "id": "eebde318-2e71-4556-9615-d15284cf756b",
   "metadata": {},
   "outputs": [
    {
     "name": "stdout",
     "output_type": "stream",
     "text": [
      "Frozon\n"
     ]
    }
   ],
   "source": [
    "# 7. You need to create a program that checks if the temperature is below freezing (32°F).\n",
    "# If it is, the program should print Frozen. Otherwise, it should print \"Liquid\".\n",
    "# How would you write the condition to check if the temperature is below freezing?\n",
    "\n",
    "# For this we can use \" < > \" Camparison Operator. \n",
    "\n",
    "temp = 29\n",
    "\n",
    "if temp < 32:\n",
    "    print(\"Frozon\")\n",
    "else:\n",
    "    print(\"Liquid\")"
   ]
  },
  {
   "cell_type": "code",
   "execution_count": 10,
   "id": "58c7d72c-f09d-4faf-85e0-a574498c6142",
   "metadata": {},
   "outputs": [
    {
     "name": "stdout",
     "output_type": "stream",
     "text": [
      "First 10 fibonacci number\n",
      "0 1 1 2 3 5 8 13 21 34 "
     ]
    }
   ],
   "source": [
    "# 8. You’re writing a program that prints the first 10 Fibonacci numbers.\n",
    "# What kind of loop would you use, and how would you calculate the next Fibonacci number in each iteration?\n",
    "\n",
    "# For this we will use \"for loop\" because we have to iterates.\n",
    "# Fibonacci number is nothing but a sum of first two number or first two preceding number. Fibonacci sequence start with 0 and 1.\n",
    "\n",
    "n = 10\n",
    "a,b = 0,1\n",
    "\n",
    "print(\"First 10 fibonacci number\")\n",
    "for _ in range(n):\n",
    "    print(a, end=\" \")\n",
    "    a, b = b, a + b"
   ]
  },
  {
   "cell_type": "code",
   "execution_count": 15,
   "id": "ef411cc2-dff4-452f-abae-e7823e18f2e5",
   "metadata": {},
   "outputs": [
    {
     "name": "stdout",
     "output_type": "stream",
     "text": [
      "4 raised to the power of 6 is: 4096\n"
     ]
    }
   ],
   "source": [
    "# 9. You have a function that takes two parameters, a number and a power, and returns the result of raising the number to the given power.\n",
    "# How would you write this function using Python's exponentiation operator?\n",
    "\n",
    "def power_of_number(number,power):\n",
    "    return number ** power\n",
    "result = power_of_number(4, 6)\n",
    "print(f\"4 raised to the power of 6 is: {result}\")"
   ]
  },
  {
   "cell_type": "code",
   "execution_count": 16,
   "id": "0f745831-c007-45b4-86b4-1e7ae37bef85",
   "metadata": {},
   "outputs": [
    {
     "name": "stdin",
     "output_type": "stream",
     "text": [
      "Enter a valid username (at least 5 characters):  aashutosh\n"
     ]
    },
    {
     "name": "stdout",
     "output_type": "stream",
     "text": [
      "Welcome, aashutosh!\n"
     ]
    }
   ],
   "source": [
    "# 10. You're developing a program that prompts a user to enter their username repeatedly until they provide a valid one. Which loop would you use to continue prompting the user until the condition is met?\n",
    "\n",
    "# ==> For this we will use while loop.\n",
    "#     Because the while loop is keep goinig or running until it gose true the condition.\n",
    "\n",
    "username = \"\"\n",
    "\n",
    "while len(username) < 5:  # Username must be at least 5 characters\n",
    "    username = input(\"Enter a valid username (at least 5 characters): \")\n",
    "\n",
    "print(f\"Welcome, {username}!\")\n"
   ]
  },
  {
   "cell_type": "code",
   "execution_count": 13,
   "id": "000d2577-3e69-4f11-a08d-540f7a0eaaa9",
   "metadata": {},
   "outputs": [
    {
     "name": "stdout",
     "output_type": "stream",
     "text": [
      "The maximum value in the list is: 99\n"
     ]
    }
   ],
   "source": [
    "# 11. You're creating a function that returns the maximum value from a list of numbers.\n",
    "# How would you write this function, and would you use any built-in functions to simplify the task?\n",
    "\n",
    "def find_max_value(numbers):\n",
    "    return max(numbers)\n",
    "\n",
    "numbers = [10, 34, 23, 67, 2, 99, 45]\n",
    "max_value = find_max_value(numbers)\n",
    "print(f\"The maximum value in the list is: {max_value}\")"
   ]
  },
  {
   "cell_type": "code",
   "execution_count": 17,
   "id": "88055647-a18b-4eb2-ad84-d24624ff7452",
   "metadata": {},
   "outputs": [
    {
     "name": "stdout",
     "output_type": "stream",
     "text": [
      "Word found!\n"
     ]
    }
   ],
   "source": [
    "# 12. Your program needs to perform regular expression searches.\n",
    "# Which Python module would you import to use regular expressions?\n",
    "\n",
    "import re\n",
    "\n",
    "# Check if a word exists in a string\n",
    "text = \"The quick brown fox jumps over the lazy dog\"\n",
    "if re.search(\"fox\", text):\n",
    "    print(\"Word found!\")\n",
    "else:\n",
    "    print(\"Word not found.\")\n"
   ]
  },
  {
   "cell_type": "code",
   "execution_count": 20,
   "id": "b97eb463-e95f-4b45-b530-d96897469d76",
   "metadata": {},
   "outputs": [
    {
     "name": "stdout",
     "output_type": "stream",
     "text": [
      "Failed to fetch content.\n"
     ]
    }
   ],
   "source": [
    "# 13. You're building a simple web scraper, and you need to download HTML content from a URL.\n",
    "# Which Python module would you import to help with this task?\n",
    "\n",
    "import requests\n",
    "\n",
    "# URL to fetch\n",
    "url = \"https://imdb.com\"\n",
    "\n",
    "# Get the HTML content\n",
    "response = requests.get(url)\n",
    "\n",
    "# Print the content\n",
    "if response.status_code == 200:\n",
    "    print(\"HTML content downloaded!\")\n",
    "    print(response.text)  # HTML content as text\n",
    "else:\n",
    "    print(\"Failed to fetch content.\")\n"
   ]
  },
  {
   "cell_type": "code",
   "execution_count": 21,
   "id": "04ab1a34-cc8a-41df-ba70-e3626b499e35",
   "metadata": {},
   "outputs": [
    {
     "name": "stdout",
     "output_type": "stream",
     "text": [
      "Task is overdue\n"
     ]
    }
   ],
   "source": [
    "# 14. In a task management application, if a task is overdue, it should print \"Task is overdue\", otherwise \"Task is on time\".\n",
    "# How would you structure the condition to check whether the task is overdue?\n",
    "\n",
    "from datetime import datetime\n",
    "\n",
    "# Example deadline\n",
    "task_deadline = datetime(2025, 1, 20)  # Task due on Jan 20, 2025\n",
    "current_date = datetime.now()\n",
    "\n",
    "# Check if the task is overdue\n",
    "if current_date > task_deadline:\n",
    "    print(\"Task is overdue\")\n",
    "else:\n",
    "    print(\"Task is on time\")\n"
   ]
  },
  {
   "cell_type": "code",
   "execution_count": 22,
   "id": "d7f58960-a1de-48e4-8529-5e26e51e25f4",
   "metadata": {},
   "outputs": [
    {
     "name": "stdin",
     "output_type": "stream",
     "text": [
      "Enter your age:  34\n"
     ]
    },
    {
     "name": "stdout",
     "output_type": "stream",
     "text": [
      "You get a 15% discount!\n"
     ]
    }
   ],
   "source": [
    "# 15. You're writing a program that gives discounts based on the user's age.\n",
    "# People under 18 get a 10% discount, people between 18 and 60 get a 15% discount, and those over 60 get a 20% discount.\n",
    "# How would you implement this using if-else statements?\n",
    "\n",
    "age = int(input(\"Enter your age: \"))\n",
    "\n",
    "if age < 18:\n",
    "    print(\"You get a 10% discount!\")\n",
    "elif age <= 60:\n",
    "    print(\"You get a 15% discount!\")\n",
    "else:\n",
    "    print(\"You get a 20% discount!\")\n"
   ]
  },
  {
   "cell_type": "code",
   "execution_count": null,
   "id": "efa5f53b-00a0-4ed7-bab5-a67d1d250fc5",
   "metadata": {},
   "outputs": [],
   "source": []
  }
 ],
 "metadata": {
  "kernelspec": {
   "display_name": "Python 3 (ipykernel)",
   "language": "python",
   "name": "python3"
  },
  "language_info": {
   "codemirror_mode": {
    "name": "ipython",
    "version": 3
   },
   "file_extension": ".py",
   "mimetype": "text/x-python",
   "name": "python",
   "nbconvert_exporter": "python",
   "pygments_lexer": "ipython3",
   "version": "3.12.4"
  }
 },
 "nbformat": 4,
 "nbformat_minor": 5
}
